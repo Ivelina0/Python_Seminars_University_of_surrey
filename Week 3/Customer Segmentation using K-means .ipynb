{
 "cells": [
  {
   "cell_type": "markdown",
   "metadata": {},
   "source": [
    "# Customer Segmentation in Python using K-Means\n",
    " \n",
    "Suppose you have a company that provides loyalty cards and wants to analyse its customers based on the information extracted from the loyalty cards. This will not only help us target them with the right markeing campaigns but it will helps us understand what is our loyalty base and customer churn. \n",
    "\n",
    "The higher the customer churn, the more we would need to improve something within our business model as we cannot retain customers.\n",
    "\n",
    "We can segment customers based on their shopping habits. \n",
    "\n",
    "Note the dataset is quite large and we will need to use machine learning algorithms to help us achieve this.\n",
    "\n",
    "This notebook will show you how to do customer segmentation based on customer behaviour using the K-Means algorithm in Python. \n",
    "\n",
    "\n",
    "You can download the data from  https://archive.ics.uci.edu/ml/datasets/online+retail .\n",
    "\n",
    "-----------------\n",
    "\n",
    "**Plan Of Attack**\n",
    "\n",
    "\n",
    "Before we get into the process, I will give you a brief on what kind of steps we will get.\n",
    "- Gather the data \n",
    "- Explore the data with ```pandas```\n",
    "- Pre-process the data and engineer new metrics\n",
    "- Cluster the data using the ```scikit-learn``` package\n",
    "- Interpret the result"
   ]
  },
  {
   "cell_type": "code",
   "execution_count": 1,
   "metadata": {},
   "outputs": [],
   "source": [
    "# install the relevant packages \n",
    "\n",
    "import pandas as pd\n",
    "import numpy as np\n",
    "import matplotlib.pyplot as plt\n",
    "import seaborn as sns\n",
    "import datetime\n",
    "\n",
    "%matplotlib inline "
   ]
  },
  {
   "cell_type": "markdown",
   "metadata": {},
   "source": [
    "```%matplotlib inline``` : With this line the output of plotting commands is displayed inline within frontends like the Jupyter notebook, directly below the code cell that produced it."
   ]
  },
  {
   "cell_type": "markdown",
   "metadata": {},
   "source": [
    "## Get the data and explore data using  ```  pandas```\n",
    "\n"
   ]
  },
  {
   "cell_type": "code",
   "execution_count": 2,
   "metadata": {},
   "outputs": [],
   "source": [
    " # Upload the csv file onto your notebook and assign it to a variable called data \n",
    "    \n",
    " # Use the function encoding='iso-8859-1' when you get an encoding error using pandas\n",
    "    # Try encoding='latin1' for Macs\n",
    "\n",
    "data = pd.read_csv('Online_retail_data.csv', encoding='iso-8859-1')"
   ]
  },
  {
   "cell_type": "markdown",
   "metadata": {},
   "source": [
    "You can use this code to upload .xlsx files too.\n",
    "Although .csv files upload time is faster. \n",
    "\n",
    "\n",
    "```python\n",
    ">>> df = pd.read_excel('dataset.xlsx', nrow = 1500)  \n",
    "```"
   ]
  },
  {
   "cell_type": "markdown",
   "metadata": {},
   "source": [
    "Using the pandas library to explore the data "
   ]
  },
  {
   "cell_type": "code",
   "execution_count": 3,
   "metadata": {},
   "outputs": [
    {
     "data": {
      "text/html": [
       "<div>\n",
       "<style scoped>\n",
       "    .dataframe tbody tr th:only-of-type {\n",
       "        vertical-align: middle;\n",
       "    }\n",
       "\n",
       "    .dataframe tbody tr th {\n",
       "        vertical-align: top;\n",
       "    }\n",
       "\n",
       "    .dataframe thead th {\n",
       "        text-align: right;\n",
       "    }\n",
       "</style>\n",
       "<table border=\"1\" class=\"dataframe\">\n",
       "  <thead>\n",
       "    <tr style=\"text-align: right;\">\n",
       "      <th></th>\n",
       "      <th>InvoiceNo</th>\n",
       "      <th>StockCode</th>\n",
       "      <th>Description</th>\n",
       "      <th>Quantity</th>\n",
       "      <th>InvoiceDate</th>\n",
       "      <th>UnitPrice</th>\n",
       "      <th>CustomerID</th>\n",
       "      <th>Country</th>\n",
       "    </tr>\n",
       "  </thead>\n",
       "  <tbody>\n",
       "    <tr>\n",
       "      <th>0</th>\n",
       "      <td>536365</td>\n",
       "      <td>85123A</td>\n",
       "      <td>WHITE HANGING HEART T-LIGHT HOLDER</td>\n",
       "      <td>6</td>\n",
       "      <td>01/12/2010 08:26</td>\n",
       "      <td>2.55</td>\n",
       "      <td>17850.0</td>\n",
       "      <td>United Kingdom</td>\n",
       "    </tr>\n",
       "    <tr>\n",
       "      <th>1</th>\n",
       "      <td>536365</td>\n",
       "      <td>71053</td>\n",
       "      <td>WHITE METAL LANTERN</td>\n",
       "      <td>6</td>\n",
       "      <td>01/12/2010 08:26</td>\n",
       "      <td>3.39</td>\n",
       "      <td>17850.0</td>\n",
       "      <td>United Kingdom</td>\n",
       "    </tr>\n",
       "    <tr>\n",
       "      <th>2</th>\n",
       "      <td>536365</td>\n",
       "      <td>84406B</td>\n",
       "      <td>CREAM CUPID HEARTS COAT HANGER</td>\n",
       "      <td>8</td>\n",
       "      <td>01/12/2010 08:26</td>\n",
       "      <td>2.75</td>\n",
       "      <td>17850.0</td>\n",
       "      <td>United Kingdom</td>\n",
       "    </tr>\n",
       "    <tr>\n",
       "      <th>3</th>\n",
       "      <td>536365</td>\n",
       "      <td>84029G</td>\n",
       "      <td>KNITTED UNION FLAG HOT WATER BOTTLE</td>\n",
       "      <td>6</td>\n",
       "      <td>01/12/2010 08:26</td>\n",
       "      <td>3.39</td>\n",
       "      <td>17850.0</td>\n",
       "      <td>United Kingdom</td>\n",
       "    </tr>\n",
       "    <tr>\n",
       "      <th>4</th>\n",
       "      <td>536365</td>\n",
       "      <td>84029E</td>\n",
       "      <td>RED WOOLLY HOTTIE WHITE HEART.</td>\n",
       "      <td>6</td>\n",
       "      <td>01/12/2010 08:26</td>\n",
       "      <td>3.39</td>\n",
       "      <td>17850.0</td>\n",
       "      <td>United Kingdom</td>\n",
       "    </tr>\n",
       "  </tbody>\n",
       "</table>\n",
       "</div>"
      ],
      "text/plain": [
       "  InvoiceNo StockCode                          Description  Quantity  \\\n",
       "0    536365    85123A   WHITE HANGING HEART T-LIGHT HOLDER         6   \n",
       "1    536365     71053                  WHITE METAL LANTERN         6   \n",
       "2    536365    84406B       CREAM CUPID HEARTS COAT HANGER         8   \n",
       "3    536365    84029G  KNITTED UNION FLAG HOT WATER BOTTLE         6   \n",
       "4    536365    84029E       RED WOOLLY HOTTIE WHITE HEART.         6   \n",
       "\n",
       "        InvoiceDate  UnitPrice  CustomerID         Country  \n",
       "0  01/12/2010 08:26       2.55     17850.0  United Kingdom  \n",
       "1  01/12/2010 08:26       3.39     17850.0  United Kingdom  \n",
       "2  01/12/2010 08:26       2.75     17850.0  United Kingdom  \n",
       "3  01/12/2010 08:26       3.39     17850.0  United Kingdom  \n",
       "4  01/12/2010 08:26       3.39     17850.0  United Kingdom  "
      ]
     },
     "execution_count": 3,
     "metadata": {},
     "output_type": "execute_result"
    }
   ],
   "source": [
    "# choose the number of top rows you want to see  \n",
    "\n",
    "data.head(5)"
   ]
  },
  {
   "cell_type": "code",
   "execution_count": 4,
   "metadata": {},
   "outputs": [
    {
     "data": {
      "text/html": [
       "<div>\n",
       "<style scoped>\n",
       "    .dataframe tbody tr th:only-of-type {\n",
       "        vertical-align: middle;\n",
       "    }\n",
       "\n",
       "    .dataframe tbody tr th {\n",
       "        vertical-align: top;\n",
       "    }\n",
       "\n",
       "    .dataframe thead th {\n",
       "        text-align: right;\n",
       "    }\n",
       "</style>\n",
       "<table border=\"1\" class=\"dataframe\">\n",
       "  <thead>\n",
       "    <tr style=\"text-align: right;\">\n",
       "      <th></th>\n",
       "      <th>InvoiceNo</th>\n",
       "      <th>StockCode</th>\n",
       "      <th>Description</th>\n",
       "      <th>Quantity</th>\n",
       "      <th>InvoiceDate</th>\n",
       "      <th>UnitPrice</th>\n",
       "      <th>CustomerID</th>\n",
       "      <th>Country</th>\n",
       "    </tr>\n",
       "  </thead>\n",
       "  <tbody>\n",
       "    <tr>\n",
       "      <th>541907</th>\n",
       "      <td>581587</td>\n",
       "      <td>23255</td>\n",
       "      <td>CHILDRENS CUTLERY CIRCUS PARADE</td>\n",
       "      <td>4</td>\n",
       "      <td>09/12/2011 12:50</td>\n",
       "      <td>4.15</td>\n",
       "      <td>12680.0</td>\n",
       "      <td>France</td>\n",
       "    </tr>\n",
       "    <tr>\n",
       "      <th>541908</th>\n",
       "      <td>581587</td>\n",
       "      <td>22138</td>\n",
       "      <td>BAKING SET 9 PIECE RETROSPOT</td>\n",
       "      <td>3</td>\n",
       "      <td>09/12/2011 12:50</td>\n",
       "      <td>4.95</td>\n",
       "      <td>12680.0</td>\n",
       "      <td>France</td>\n",
       "    </tr>\n",
       "  </tbody>\n",
       "</table>\n",
       "</div>"
      ],
      "text/plain": [
       "       InvoiceNo StockCode                      Description  Quantity  \\\n",
       "541907    581587     23255  CHILDRENS CUTLERY CIRCUS PARADE         4   \n",
       "541908    581587     22138    BAKING SET 9 PIECE RETROSPOT          3   \n",
       "\n",
       "             InvoiceDate  UnitPrice  CustomerID Country  \n",
       "541907  09/12/2011 12:50       4.15     12680.0  France  \n",
       "541908  09/12/2011 12:50       4.95     12680.0  France  "
      ]
     },
     "execution_count": 4,
     "metadata": {},
     "output_type": "execute_result"
    }
   ],
   "source": [
    "# choose the number of top rows you want to see  \n",
    "\n",
    "data.tail(2)"
   ]
  },
  {
   "cell_type": "markdown",
   "metadata": {},
   "source": [
    "See information about the data using ```data.info``` - note it has different values of non-null rows.\n",
    "\n",
    "The overall number of rows are **541909***."
   ]
  },
  {
   "cell_type": "code",
   "execution_count": 5,
   "metadata": {},
   "outputs": [
    {
     "name": "stdout",
     "output_type": "stream",
     "text": [
      "<class 'pandas.core.frame.DataFrame'>\n",
      "RangeIndex: 541909 entries, 0 to 541908\n",
      "Data columns (total 8 columns):\n",
      " #   Column       Non-Null Count   Dtype  \n",
      "---  ------       --------------   -----  \n",
      " 0   InvoiceNo    541909 non-null  object \n",
      " 1   StockCode    541909 non-null  object \n",
      " 2   Description  540455 non-null  object \n",
      " 3   Quantity     541909 non-null  int64  \n",
      " 4   InvoiceDate  541909 non-null  object \n",
      " 5   UnitPrice    541909 non-null  float64\n",
      " 6   CustomerID   406829 non-null  float64\n",
      " 7   Country      541909 non-null  object \n",
      "dtypes: float64(2), int64(1), object(5)\n",
      "memory usage: 33.1+ MB\n"
     ]
    }
   ],
   "source": [
    "data.info()"
   ]
  },
  {
   "cell_type": "markdown",
   "metadata": {},
   "source": [
    "Extract information only from column ```'Country'``` using slicing ```[]```.\n",
    "\n",
    "Note the column name is a string (text) hence we use an apostrophe **'** to denote that."
   ]
  },
  {
   "cell_type": "code",
   "execution_count": 6,
   "metadata": {},
   "outputs": [
    {
     "data": {
      "text/plain": [
       "0         United Kingdom\n",
       "1         United Kingdom\n",
       "2         United Kingdom\n",
       "3         United Kingdom\n",
       "4         United Kingdom\n",
       "               ...      \n",
       "541904            France\n",
       "541905            France\n",
       "541906            France\n",
       "541907            France\n",
       "541908            France\n",
       "Name: Country, Length: 541909, dtype: object"
      ]
     },
     "execution_count": 6,
     "metadata": {},
     "output_type": "execute_result"
    }
   ],
   "source": [
    "data['Country']"
   ]
  },
  {
   "cell_type": "markdown",
   "metadata": {},
   "source": [
    "Cxtracting rows from column 'CustomerID' whihc are not null with the function ```notna()```"
   ]
  },
  {
   "cell_type": "code",
   "execution_count": 7,
   "metadata": {},
   "outputs": [
    {
     "data": {
      "text/plain": [
       "0         True\n",
       "1         True\n",
       "2         True\n",
       "3         True\n",
       "4         True\n",
       "          ... \n",
       "541904    True\n",
       "541905    True\n",
       "541906    True\n",
       "541907    True\n",
       "541908    True\n",
       "Name: CustomerID, Length: 541909, dtype: bool"
      ]
     },
     "execution_count": 7,
     "metadata": {},
     "output_type": "execute_result"
    }
   ],
   "source": [
    "data['CustomerID'].notna()\n",
    "\n",
    "# it gives us a boolean (True/False) of the rows"
   ]
  },
  {
   "cell_type": "markdown",
   "metadata": {},
   "source": [
    "Here we are filtering our data by passing the boolean values from our series with no emptry rows of CustomerID to our data. and assinging it back to the dataframe.\n",
    "\n",
    "Notive when using ```.info``` again, the number of rows has reduced to **406829 entries**."
   ]
  },
  {
   "cell_type": "code",
   "execution_count": 8,
   "metadata": {},
   "outputs": [
    {
     "name": "stdout",
     "output_type": "stream",
     "text": [
      "<class 'pandas.core.frame.DataFrame'>\n",
      "Int64Index: 406829 entries, 0 to 541908\n",
      "Data columns (total 8 columns):\n",
      " #   Column       Non-Null Count   Dtype  \n",
      "---  ------       --------------   -----  \n",
      " 0   InvoiceNo    406829 non-null  object \n",
      " 1   StockCode    406829 non-null  object \n",
      " 2   Description  406829 non-null  object \n",
      " 3   Quantity     406829 non-null  int64  \n",
      " 4   InvoiceDate  406829 non-null  object \n",
      " 5   UnitPrice    406829 non-null  float64\n",
      " 6   CustomerID   406829 non-null  float64\n",
      " 7   Country      406829 non-null  object \n",
      "dtypes: float64(2), int64(1), object(5)\n",
      "memory usage: 27.9+ MB\n"
     ]
    }
   ],
   "source": [
    "# Assign the series of boolean values to a variable called 'extract_customers'\n",
    "extract_customers = data['CustomerID'].notna()  \n",
    "\n",
    "# pass the boolean values into the data so that \n",
    "data = data[ extract_customers ]\n",
    "\n",
    "data.info()"
   ]
  },
  {
   "cell_type": "markdown",
   "metadata": {},
   "source": [
    "Sampling our data using a the function ```sample()``` and the parameters **n** and **random_state**. \n",
    "\n",
    "Checking the shape of our data_sample using the function  ```shape```."
   ]
  },
  {
   "cell_type": "code",
   "execution_count": 9,
   "metadata": {},
   "outputs": [
    {
     "data": {
      "text/plain": [
       "(1000, 8)"
      ]
     },
     "execution_count": 9,
     "metadata": {},
     "output_type": "execute_result"
    }
   ],
   "source": [
    "data_sample = data.sample(n = 1000, random_state = 42) # changing the random state will give you a different sample \n",
    "\n",
    "data_sample.shape"
   ]
  },
  {
   "cell_type": "code",
   "execution_count": 10,
   "metadata": {
    "scrolled": true
   },
   "outputs": [
    {
     "data": {
      "text/html": [
       "<div>\n",
       "<style scoped>\n",
       "    .dataframe tbody tr th:only-of-type {\n",
       "        vertical-align: middle;\n",
       "    }\n",
       "\n",
       "    .dataframe tbody tr th {\n",
       "        vertical-align: top;\n",
       "    }\n",
       "\n",
       "    .dataframe thead th {\n",
       "        text-align: right;\n",
       "    }\n",
       "</style>\n",
       "<table border=\"1\" class=\"dataframe\">\n",
       "  <thead>\n",
       "    <tr style=\"text-align: right;\">\n",
       "      <th></th>\n",
       "      <th>InvoiceNo</th>\n",
       "      <th>StockCode</th>\n",
       "      <th>Description</th>\n",
       "      <th>Quantity</th>\n",
       "      <th>InvoiceDate</th>\n",
       "      <th>UnitPrice</th>\n",
       "      <th>CustomerID</th>\n",
       "      <th>Country</th>\n",
       "    </tr>\n",
       "  </thead>\n",
       "  <tbody>\n",
       "    <tr>\n",
       "      <th>47912</th>\n",
       "      <td>540456</td>\n",
       "      <td>48185</td>\n",
       "      <td>DOORMAT FAIRY CAKE</td>\n",
       "      <td>2</td>\n",
       "      <td>07/01/2011 12:14</td>\n",
       "      <td>7.95</td>\n",
       "      <td>13534.0</td>\n",
       "      <td>United Kingdom</td>\n",
       "    </tr>\n",
       "    <tr>\n",
       "      <th>342630</th>\n",
       "      <td>566891</td>\n",
       "      <td>23013</td>\n",
       "      <td>GLASS APOTHECARY BOTTLE TONIC</td>\n",
       "      <td>4</td>\n",
       "      <td>15/09/2011 13:51</td>\n",
       "      <td>3.95</td>\n",
       "      <td>14894.0</td>\n",
       "      <td>United Kingdom</td>\n",
       "    </tr>\n",
       "    <tr>\n",
       "      <th>288183</th>\n",
       "      <td>C562139</td>\n",
       "      <td>21313</td>\n",
       "      <td>GLASS HEART T-LIGHT HOLDER</td>\n",
       "      <td>-4</td>\n",
       "      <td>03/08/2011 10:10</td>\n",
       "      <td>0.85</td>\n",
       "      <td>12921.0</td>\n",
       "      <td>United Kingdom</td>\n",
       "    </tr>\n",
       "  </tbody>\n",
       "</table>\n",
       "</div>"
      ],
      "text/plain": [
       "       InvoiceNo StockCode                    Description  Quantity  \\\n",
       "47912     540456     48185             DOORMAT FAIRY CAKE         2   \n",
       "342630    566891     23013  GLASS APOTHECARY BOTTLE TONIC         4   \n",
       "288183   C562139     21313    GLASS HEART T-LIGHT HOLDER         -4   \n",
       "\n",
       "             InvoiceDate  UnitPrice  CustomerID         Country  \n",
       "47912   07/01/2011 12:14       7.95     13534.0  United Kingdom  \n",
       "342630  15/09/2011 13:51       3.95     14894.0  United Kingdom  \n",
       "288183  03/08/2011 10:10       0.85     12921.0  United Kingdom  "
      ]
     },
     "execution_count": 10,
     "metadata": {},
     "output_type": "execute_result"
    }
   ],
   "source": [
    "data_sample.head(3)"
   ]
  },
  {
   "cell_type": "markdown",
   "metadata": {},
   "source": [
    "How many countries do we export to?\n",
    "\n",
    "Use ```.unique()``` to find the unique number of rows in the ``'Country'`` column."
   ]
  },
  {
   "cell_type": "code",
   "execution_count": 11,
   "metadata": {},
   "outputs": [
    {
     "data": {
      "text/plain": [
       "array(['United Kingdom', 'France', 'Norway', 'Belgium', 'Germany',\n",
       "       'Denmark', 'Unspecified', 'Malta', 'Finland', 'Austria',\n",
       "       'Switzerland', 'Netherlands', 'Spain', 'EIRE',\n",
       "       'United Arab Emirates', 'Italy', 'Portugal', 'Israel', 'Australia',\n",
       "       'Channel Islands', 'European Community', 'Lebanon'], dtype=object)"
      ]
     },
     "execution_count": 11,
     "metadata": {},
     "output_type": "execute_result"
    }
   ],
   "source": [
    "data_sample['Country'].unique()"
   ]
  },
  {
   "cell_type": "markdown",
   "metadata": {},
   "source": [
    "Find how many unique customers we have using the ```.value_counts()``` function."
   ]
  },
  {
   "cell_type": "code",
   "execution_count": 12,
   "metadata": {},
   "outputs": [
    {
     "data": {
      "text/plain": [
       "17841.0    16\n",
       "14096.0    15\n",
       "14606.0    13\n",
       "14911.0    13\n",
       "12748.0    11\n",
       "           ..\n",
       "12435.0     1\n",
       "16418.0     1\n",
       "13475.0     1\n",
       "17965.0     1\n",
       "16401.0     1\n",
       "Name: CustomerID, Length: 680, dtype: int64"
      ]
     },
     "execution_count": 12,
     "metadata": {},
     "output_type": "execute_result"
    }
   ],
   "source": [
    "data_sample['CustomerID'].value_counts() # Return a Series containing counts of unique values\n",
    "\n",
    "# There are 680 unique customers"
   ]
  },
  {
   "cell_type": "code",
   "execution_count": 13,
   "metadata": {},
   "outputs": [
    {
     "data": {
      "text/plain": [
       "85123A    8\n",
       "22382     7\n",
       "22423     6\n",
       "22625     6\n",
       "21232     5\n",
       "         ..\n",
       "16052     1\n",
       "22817     1\n",
       "22414     1\n",
       "22896     1\n",
       "22969     1\n",
       "Name: StockCode, Length: 714, dtype: int64"
      ]
     },
     "execution_count": 13,
     "metadata": {},
     "output_type": "execute_result"
    }
   ],
   "source": [
    "# Similarly for the number of stocks in the dataframe\n",
    "\n",
    "data_sample['StockCode'].value_counts()"
   ]
  },
  {
   "cell_type": "markdown",
   "metadata": {},
   "source": [
    "Using the ```print()``` and ```.format()``` functions to output both variables within a sentence."
   ]
  },
  {
   "cell_type": "code",
   "execution_count": 14,
   "metadata": {},
   "outputs": [
    {
     "name": "stdout",
     "output_type": "stream",
     "text": [
      "The maximum number of units we have sold per transation is 600 and the max number of returns per transaction is -12\n"
     ]
    }
   ],
   "source": [
    "max_no = data_sample['Quantity'].max()\n",
    "\n",
    "min_no = data_sample['Quantity'].min()\n",
    "\n",
    "print('The maximum number of units we have sold per transation is {} and the max number of returns per transaction is {}'.format(max_no,min_no))"
   ]
  },
  {
   "cell_type": "markdown",
   "metadata": {},
   "source": [
    "Sorting the values in the data by the Invoice Date using ```.sort_values()```."
   ]
  },
  {
   "cell_type": "code",
   "execution_count": 15,
   "metadata": {},
   "outputs": [
    {
     "data": {
      "text/html": [
       "<div>\n",
       "<style scoped>\n",
       "    .dataframe tbody tr th:only-of-type {\n",
       "        vertical-align: middle;\n",
       "    }\n",
       "\n",
       "    .dataframe tbody tr th {\n",
       "        vertical-align: top;\n",
       "    }\n",
       "\n",
       "    .dataframe thead th {\n",
       "        text-align: right;\n",
       "    }\n",
       "</style>\n",
       "<table border=\"1\" class=\"dataframe\">\n",
       "  <thead>\n",
       "    <tr style=\"text-align: right;\">\n",
       "      <th></th>\n",
       "      <th>InvoiceNo</th>\n",
       "      <th>StockCode</th>\n",
       "      <th>Description</th>\n",
       "      <th>Quantity</th>\n",
       "      <th>InvoiceDate</th>\n",
       "      <th>UnitPrice</th>\n",
       "      <th>CustomerID</th>\n",
       "      <th>Country</th>\n",
       "    </tr>\n",
       "  </thead>\n",
       "  <tbody>\n",
       "    <tr>\n",
       "      <th>77841</th>\n",
       "      <td>542789</td>\n",
       "      <td>23233</td>\n",
       "      <td>WRAP POPPIES  DESIGN</td>\n",
       "      <td>50</td>\n",
       "      <td>01/02/2011 10:38</td>\n",
       "      <td>0.42</td>\n",
       "      <td>17511.0</td>\n",
       "      <td>United Kingdom</td>\n",
       "    </tr>\n",
       "    <tr>\n",
       "      <th>78492</th>\n",
       "      <td>542887</td>\n",
       "      <td>21931</td>\n",
       "      <td>JUMBO STORAGE BAG SUKI</td>\n",
       "      <td>20</td>\n",
       "      <td>01/02/2011 13:10</td>\n",
       "      <td>1.95</td>\n",
       "      <td>12373.0</td>\n",
       "      <td>Austria</td>\n",
       "    </tr>\n",
       "  </tbody>\n",
       "</table>\n",
       "</div>"
      ],
      "text/plain": [
       "      InvoiceNo StockCode             Description  Quantity       InvoiceDate  \\\n",
       "77841    542789     23233    WRAP POPPIES  DESIGN        50  01/02/2011 10:38   \n",
       "78492    542887     21931  JUMBO STORAGE BAG SUKI        20  01/02/2011 13:10   \n",
       "\n",
       "       UnitPrice  CustomerID         Country  \n",
       "77841       0.42     17511.0  United Kingdom  \n",
       "78492       1.95     12373.0         Austria  "
      ]
     },
     "execution_count": 15,
     "metadata": {},
     "output_type": "execute_result"
    }
   ],
   "source": [
    "data_sample = data_sample.sort_values(by='InvoiceDate')\n",
    "\n",
    "data_sample.head(2)"
   ]
  },
  {
   "cell_type": "markdown",
   "metadata": {},
   "source": [
    "## Data Preprocessing - Create RFM Table\n",
    "\n",
    "\n",
    "Usually the data is not in the right format we need to fit algorothms and make predictions so we would need to 'engineer' the metrics we need and process the data before we fit any algorithms to it.\n",
    "\n",
    "----\n",
    "\n",
    "**Recency** : when did the customer buy the product for last time.\n",
    "\n",
    "**Frequency** : how frequently does the customer buy the product.\n",
    "\n",
    "**Monetary value**: how much does the customer pay for the product.\n",
    "\n",
    "We create the RFM table and use it to create a segmentation between cutomers. \n",
    "\n",
    "---\n",
    "\n",
    "To make the RFM table, we want to: \n",
    "\n",
    "-  Subtract the snapshot date with the date where the transaction occurred, for *recency column*.\n",
    "-  Count how much transactions by each customer, for the *frequency column*.\n",
    "-  Sum all transactions for each customer, for the *monetary value column*."
   ]
  },
  {
   "cell_type": "code",
   "execution_count": 16,
   "metadata": {},
   "outputs": [
    {
     "data": {
      "text/plain": [
       "77841     01/02/2011 10:38\n",
       "78492     01/02/2011 13:10\n",
       "78561     01/02/2011 13:25\n",
       "78625     01/02/2011 13:26\n",
       "78657     01/02/2011 13:36\n",
       "                ...       \n",
       "428330    31/10/2011 09:48\n",
       "428950    31/10/2011 12:21\n",
       "429059    31/10/2011 13:05\n",
       "429722    31/10/2011 14:09\n",
       "431367    31/10/2011 15:01\n",
       "Name: InvoiceDate, Length: 1000, dtype: object"
      ]
     },
     "execution_count": 16,
     "metadata": {},
     "output_type": "execute_result"
    }
   ],
   "source": [
    "data_sample['InvoiceDate']  # data type: object - need to change it to datatime "
   ]
  },
  {
   "cell_type": "markdown",
   "metadata": {},
   "source": [
    "Using the ``` pd.to_datetime()``` function to convert the 'InvoiceDate' series into a datatime series so we can extract the dates only.\n",
    "\n",
    "*Some more information on the datetime package ca be found here: https://docs.python.org/3/library/datetime.html*"
   ]
  },
  {
   "cell_type": "code",
   "execution_count": 17,
   "metadata": {},
   "outputs": [
    {
     "data": {
      "text/plain": [
       "77841    2011-01-02 10:38:00\n",
       "78492    2011-01-02 13:10:00\n",
       "78561    2011-01-02 13:25:00\n",
       "78625    2011-01-02 13:26:00\n",
       "78657    2011-01-02 13:36:00\n",
       "                 ...        \n",
       "428330   2011-10-31 09:48:00\n",
       "428950   2011-10-31 12:21:00\n",
       "429059   2011-10-31 13:05:00\n",
       "429722   2011-10-31 14:09:00\n",
       "431367   2011-10-31 15:01:00\n",
       "Name: InvoiceDate, Length: 1000, dtype: datetime64[ns]"
      ]
     },
     "execution_count": 17,
     "metadata": {},
     "output_type": "execute_result"
    }
   ],
   "source": [
    "import datetime \n",
    "from datetime import datetime, timedelta\n",
    "\n",
    "pd.to_datetime( data_sample['InvoiceDate'] )"
   ]
  },
  {
   "cell_type": "markdown",
   "metadata": {},
   "source": [
    "Creating a new column called **'New_Invoice_Date'** where we will store the new datetime series we created from **' InvoiceDate'**."
   ]
  },
  {
   "cell_type": "code",
   "execution_count": 18,
   "metadata": {},
   "outputs": [],
   "source": [
    "data_sample['New_Invoice_Date'] = pd.to_datetime( data_sample['InvoiceDate'] ) # the data type is now datetime64"
   ]
  },
  {
   "cell_type": "code",
   "execution_count": 19,
   "metadata": {},
   "outputs": [
    {
     "data": {
      "text/html": [
       "<div>\n",
       "<style scoped>\n",
       "    .dataframe tbody tr th:only-of-type {\n",
       "        vertical-align: middle;\n",
       "    }\n",
       "\n",
       "    .dataframe tbody tr th {\n",
       "        vertical-align: top;\n",
       "    }\n",
       "\n",
       "    .dataframe thead th {\n",
       "        text-align: right;\n",
       "    }\n",
       "</style>\n",
       "<table border=\"1\" class=\"dataframe\">\n",
       "  <thead>\n",
       "    <tr style=\"text-align: right;\">\n",
       "      <th></th>\n",
       "      <th>InvoiceNo</th>\n",
       "      <th>StockCode</th>\n",
       "      <th>Description</th>\n",
       "      <th>Quantity</th>\n",
       "      <th>InvoiceDate</th>\n",
       "      <th>UnitPrice</th>\n",
       "      <th>CustomerID</th>\n",
       "      <th>Country</th>\n",
       "      <th>New_Invoice_Date</th>\n",
       "    </tr>\n",
       "  </thead>\n",
       "  <tbody>\n",
       "    <tr>\n",
       "      <th>77841</th>\n",
       "      <td>542789</td>\n",
       "      <td>23233</td>\n",
       "      <td>WRAP POPPIES  DESIGN</td>\n",
       "      <td>50</td>\n",
       "      <td>01/02/2011 10:38</td>\n",
       "      <td>0.42</td>\n",
       "      <td>17511.0</td>\n",
       "      <td>United Kingdom</td>\n",
       "      <td>2011-01-02 10:38:00</td>\n",
       "    </tr>\n",
       "    <tr>\n",
       "      <th>78492</th>\n",
       "      <td>542887</td>\n",
       "      <td>21931</td>\n",
       "      <td>JUMBO STORAGE BAG SUKI</td>\n",
       "      <td>20</td>\n",
       "      <td>01/02/2011 13:10</td>\n",
       "      <td>1.95</td>\n",
       "      <td>12373.0</td>\n",
       "      <td>Austria</td>\n",
       "      <td>2011-01-02 13:10:00</td>\n",
       "    </tr>\n",
       "    <tr>\n",
       "      <th>78561</th>\n",
       "      <td>542890</td>\n",
       "      <td>84865</td>\n",
       "      <td>NEW BAROQUE BLACK PHOTO ALBUM</td>\n",
       "      <td>2</td>\n",
       "      <td>01/02/2011 13:25</td>\n",
       "      <td>8.50</td>\n",
       "      <td>15311.0</td>\n",
       "      <td>United Kingdom</td>\n",
       "      <td>2011-01-02 13:25:00</td>\n",
       "    </tr>\n",
       "  </tbody>\n",
       "</table>\n",
       "</div>"
      ],
      "text/plain": [
       "      InvoiceNo StockCode                    Description  Quantity  \\\n",
       "77841    542789     23233           WRAP POPPIES  DESIGN        50   \n",
       "78492    542887     21931         JUMBO STORAGE BAG SUKI        20   \n",
       "78561    542890     84865  NEW BAROQUE BLACK PHOTO ALBUM         2   \n",
       "\n",
       "            InvoiceDate  UnitPrice  CustomerID         Country  \\\n",
       "77841  01/02/2011 10:38       0.42     17511.0  United Kingdom   \n",
       "78492  01/02/2011 13:10       1.95     12373.0         Austria   \n",
       "78561  01/02/2011 13:25       8.50     15311.0  United Kingdom   \n",
       "\n",
       "         New_Invoice_Date  \n",
       "77841 2011-01-02 10:38:00  \n",
       "78492 2011-01-02 13:10:00  \n",
       "78561 2011-01-02 13:25:00  "
      ]
     },
     "execution_count": 19,
     "metadata": {},
     "output_type": "execute_result"
    }
   ],
   "source": [
    "data_sample.head(3)\n",
    "\n",
    "# Notice the difference in the two columns "
   ]
  },
  {
   "cell_type": "code",
   "execution_count": 20,
   "metadata": {},
   "outputs": [
    {
     "data": {
      "text/html": [
       "<div>\n",
       "<style scoped>\n",
       "    .dataframe tbody tr th:only-of-type {\n",
       "        vertical-align: middle;\n",
       "    }\n",
       "\n",
       "    .dataframe tbody tr th {\n",
       "        vertical-align: top;\n",
       "    }\n",
       "\n",
       "    .dataframe thead th {\n",
       "        text-align: right;\n",
       "    }\n",
       "</style>\n",
       "<table border=\"1\" class=\"dataframe\">\n",
       "  <thead>\n",
       "    <tr style=\"text-align: right;\">\n",
       "      <th></th>\n",
       "      <th>InvoiceNo</th>\n",
       "      <th>StockCode</th>\n",
       "      <th>Description</th>\n",
       "      <th>Quantity</th>\n",
       "      <th>UnitPrice</th>\n",
       "      <th>CustomerID</th>\n",
       "      <th>Country</th>\n",
       "      <th>New_Invoice_Date</th>\n",
       "    </tr>\n",
       "  </thead>\n",
       "  <tbody>\n",
       "    <tr>\n",
       "      <th>77841</th>\n",
       "      <td>542789</td>\n",
       "      <td>23233</td>\n",
       "      <td>WRAP POPPIES  DESIGN</td>\n",
       "      <td>50</td>\n",
       "      <td>0.42</td>\n",
       "      <td>17511.0</td>\n",
       "      <td>United Kingdom</td>\n",
       "      <td>2011-01-02 10:38:00</td>\n",
       "    </tr>\n",
       "    <tr>\n",
       "      <th>78492</th>\n",
       "      <td>542887</td>\n",
       "      <td>21931</td>\n",
       "      <td>JUMBO STORAGE BAG SUKI</td>\n",
       "      <td>20</td>\n",
       "      <td>1.95</td>\n",
       "      <td>12373.0</td>\n",
       "      <td>Austria</td>\n",
       "      <td>2011-01-02 13:10:00</td>\n",
       "    </tr>\n",
       "  </tbody>\n",
       "</table>\n",
       "</div>"
      ],
      "text/plain": [
       "      InvoiceNo StockCode             Description  Quantity  UnitPrice  \\\n",
       "77841    542789     23233    WRAP POPPIES  DESIGN        50       0.42   \n",
       "78492    542887     21931  JUMBO STORAGE BAG SUKI        20       1.95   \n",
       "\n",
       "       CustomerID         Country    New_Invoice_Date  \n",
       "77841     17511.0  United Kingdom 2011-01-02 10:38:00  \n",
       "78492     12373.0         Austria 2011-01-02 13:10:00  "
      ]
     },
     "execution_count": 20,
     "metadata": {},
     "output_type": "execute_result"
    }
   ],
   "source": [
    "# We can now get rid of the InvoiceDate column \n",
    "\n",
    "data_sample = data_sample.drop(['InvoiceDate'], axis=1)\n",
    "\n",
    "data_sample.head(2)"
   ]
  },
  {
   "cell_type": "markdown",
   "metadata": {},
   "source": [
    "We are only interested in the dates from the data so we use the function ``` .dt.date``` to extract the dates only and assign it back to the data_sample."
   ]
  },
  {
   "cell_type": "code",
   "execution_count": 21,
   "metadata": {},
   "outputs": [
    {
     "data": {
      "text/html": [
       "<div>\n",
       "<style scoped>\n",
       "    .dataframe tbody tr th:only-of-type {\n",
       "        vertical-align: middle;\n",
       "    }\n",
       "\n",
       "    .dataframe tbody tr th {\n",
       "        vertical-align: top;\n",
       "    }\n",
       "\n",
       "    .dataframe thead th {\n",
       "        text-align: right;\n",
       "    }\n",
       "</style>\n",
       "<table border=\"1\" class=\"dataframe\">\n",
       "  <thead>\n",
       "    <tr style=\"text-align: right;\">\n",
       "      <th></th>\n",
       "      <th>InvoiceNo</th>\n",
       "      <th>StockCode</th>\n",
       "      <th>Description</th>\n",
       "      <th>Quantity</th>\n",
       "      <th>UnitPrice</th>\n",
       "      <th>CustomerID</th>\n",
       "      <th>Country</th>\n",
       "      <th>New_Invoice_Date</th>\n",
       "    </tr>\n",
       "  </thead>\n",
       "  <tbody>\n",
       "    <tr>\n",
       "      <th>77841</th>\n",
       "      <td>542789</td>\n",
       "      <td>23233</td>\n",
       "      <td>WRAP POPPIES  DESIGN</td>\n",
       "      <td>50</td>\n",
       "      <td>0.42</td>\n",
       "      <td>17511.0</td>\n",
       "      <td>United Kingdom</td>\n",
       "      <td>2011-01-02</td>\n",
       "    </tr>\n",
       "    <tr>\n",
       "      <th>78492</th>\n",
       "      <td>542887</td>\n",
       "      <td>21931</td>\n",
       "      <td>JUMBO STORAGE BAG SUKI</td>\n",
       "      <td>20</td>\n",
       "      <td>1.95</td>\n",
       "      <td>12373.0</td>\n",
       "      <td>Austria</td>\n",
       "      <td>2011-01-02</td>\n",
       "    </tr>\n",
       "    <tr>\n",
       "      <th>78561</th>\n",
       "      <td>542890</td>\n",
       "      <td>84865</td>\n",
       "      <td>NEW BAROQUE BLACK PHOTO ALBUM</td>\n",
       "      <td>2</td>\n",
       "      <td>8.50</td>\n",
       "      <td>15311.0</td>\n",
       "      <td>United Kingdom</td>\n",
       "      <td>2011-01-02</td>\n",
       "    </tr>\n",
       "  </tbody>\n",
       "</table>\n",
       "</div>"
      ],
      "text/plain": [
       "      InvoiceNo StockCode                    Description  Quantity  UnitPrice  \\\n",
       "77841    542789     23233           WRAP POPPIES  DESIGN        50       0.42   \n",
       "78492    542887     21931         JUMBO STORAGE BAG SUKI        20       1.95   \n",
       "78561    542890     84865  NEW BAROQUE BLACK PHOTO ALBUM         2       8.50   \n",
       "\n",
       "       CustomerID         Country New_Invoice_Date  \n",
       "77841     17511.0  United Kingdom       2011-01-02  \n",
       "78492     12373.0         Austria       2011-01-02  \n",
       "78561     15311.0  United Kingdom       2011-01-02  "
      ]
     },
     "execution_count": 21,
     "metadata": {},
     "output_type": "execute_result"
    }
   ],
   "source": [
    "data_sample[\"New_Invoice_Date\"] = data_sample[\"New_Invoice_Date\"].dt.date\n",
    "\n",
    "data_sample.head(3)"
   ]
  },
  {
   "cell_type": "markdown",
   "metadata": {},
   "source": [
    "### Creating the RFM table \n",
    "\n",
    "Create a column which has the total number of money spent per transaction, call it **TotalSum**. \n",
    "\n",
    "Using the ```*``` as a multiplication between the two series \"Quantity\" and \"UnitPrice\".\n"
   ]
  },
  {
   "cell_type": "code",
   "execution_count": 22,
   "metadata": {},
   "outputs": [
    {
     "data": {
      "text/html": [
       "<div>\n",
       "<style scoped>\n",
       "    .dataframe tbody tr th:only-of-type {\n",
       "        vertical-align: middle;\n",
       "    }\n",
       "\n",
       "    .dataframe tbody tr th {\n",
       "        vertical-align: top;\n",
       "    }\n",
       "\n",
       "    .dataframe thead th {\n",
       "        text-align: right;\n",
       "    }\n",
       "</style>\n",
       "<table border=\"1\" class=\"dataframe\">\n",
       "  <thead>\n",
       "    <tr style=\"text-align: right;\">\n",
       "      <th></th>\n",
       "      <th>InvoiceNo</th>\n",
       "      <th>StockCode</th>\n",
       "      <th>Description</th>\n",
       "      <th>Quantity</th>\n",
       "      <th>UnitPrice</th>\n",
       "      <th>CustomerID</th>\n",
       "      <th>Country</th>\n",
       "      <th>New_Invoice_Date</th>\n",
       "      <th>TotalSum</th>\n",
       "    </tr>\n",
       "  </thead>\n",
       "  <tbody>\n",
       "    <tr>\n",
       "      <th>77841</th>\n",
       "      <td>542789</td>\n",
       "      <td>23233</td>\n",
       "      <td>WRAP POPPIES  DESIGN</td>\n",
       "      <td>50</td>\n",
       "      <td>0.42</td>\n",
       "      <td>17511.0</td>\n",
       "      <td>United Kingdom</td>\n",
       "      <td>2011-01-02</td>\n",
       "      <td>21.0</td>\n",
       "    </tr>\n",
       "    <tr>\n",
       "      <th>78492</th>\n",
       "      <td>542887</td>\n",
       "      <td>21931</td>\n",
       "      <td>JUMBO STORAGE BAG SUKI</td>\n",
       "      <td>20</td>\n",
       "      <td>1.95</td>\n",
       "      <td>12373.0</td>\n",
       "      <td>Austria</td>\n",
       "      <td>2011-01-02</td>\n",
       "      <td>39.0</td>\n",
       "    </tr>\n",
       "    <tr>\n",
       "      <th>78561</th>\n",
       "      <td>542890</td>\n",
       "      <td>84865</td>\n",
       "      <td>NEW BAROQUE BLACK PHOTO ALBUM</td>\n",
       "      <td>2</td>\n",
       "      <td>8.50</td>\n",
       "      <td>15311.0</td>\n",
       "      <td>United Kingdom</td>\n",
       "      <td>2011-01-02</td>\n",
       "      <td>17.0</td>\n",
       "    </tr>\n",
       "  </tbody>\n",
       "</table>\n",
       "</div>"
      ],
      "text/plain": [
       "      InvoiceNo StockCode                    Description  Quantity  UnitPrice  \\\n",
       "77841    542789     23233           WRAP POPPIES  DESIGN        50       0.42   \n",
       "78492    542887     21931         JUMBO STORAGE BAG SUKI        20       1.95   \n",
       "78561    542890     84865  NEW BAROQUE BLACK PHOTO ALBUM         2       8.50   \n",
       "\n",
       "       CustomerID         Country New_Invoice_Date  TotalSum  \n",
       "77841     17511.0  United Kingdom       2011-01-02      21.0  \n",
       "78492     12373.0         Austria       2011-01-02      39.0  \n",
       "78561     15311.0  United Kingdom       2011-01-02      17.0  "
      ]
     },
     "execution_count": 22,
     "metadata": {},
     "output_type": "execute_result"
    }
   ],
   "source": [
    "data_sample[\"TotalSum\"] = data_sample[\"Quantity\"] * data_sample[\"UnitPrice\"]\n",
    "\n",
    "data_sample.head(3)"
   ]
  },
  {
   "cell_type": "markdown",
   "metadata": {},
   "source": [
    "A duration expressing the difference between two date, time, or datetime instances to microsecond resolution."
   ]
  },
  {
   "cell_type": "code",
   "execution_count": 23,
   "metadata": {},
   "outputs": [
    {
     "data": {
      "text/plain": [
       "datetime.timedelta(days=1)"
      ]
     },
     "execution_count": 23,
     "metadata": {},
     "output_type": "execute_result"
    }
   ],
   "source": [
    "timedelta(days=1) "
   ]
  },
  {
   "cell_type": "markdown",
   "metadata": {},
   "source": [
    "Get the most recent transaction - the max transaction."
   ]
  },
  {
   "cell_type": "code",
   "execution_count": 24,
   "metadata": {},
   "outputs": [
    {
     "data": {
      "text/plain": [
       "datetime.date(2011, 12, 10)"
      ]
     },
     "execution_count": 24,
     "metadata": {},
     "output_type": "execute_result"
    }
   ],
   "source": [
    "max(data_sample['New_Invoice_Date']) "
   ]
  },
  {
   "cell_type": "markdown",
   "metadata": {},
   "source": [
    "Create date variable that records recency - a date which will be the cut off date for transactions. \n",
    "\n",
    "The 'cut off date' will be the date after the last transaction has happened, i.e. the max of the **'New_Invoice_Date' + 1 more day**."
   ]
  },
  {
   "cell_type": "code",
   "execution_count": 25,
   "metadata": {},
   "outputs": [
    {
     "data": {
      "text/plain": [
       "datetime.date(2011, 12, 11)"
      ]
     },
     "execution_count": 25,
     "metadata": {},
     "output_type": "execute_result"
    }
   ],
   "source": [
    "snapshot_date = max(data_sample['New_Invoice_Date']) + timedelta(days=1)\n",
    "\n",
    "snapshot_date # That's the 11th December 2011"
   ]
  },
  {
   "cell_type": "markdown",
   "metadata": {},
   "source": [
    "Now we want to use the ```groupby()``` function so we can group/aggregate the data (for the columns R,F,M ) by each customer. \n",
    "\n",
    "The ```groupby()``` function is quite important when wrangling data, here is a link to the documentation if you want to find out more https://pandas.pydata.org/pandas-docs/stable/reference/api/pandas.DataFrame.groupby.html."
   ]
  },
  {
   "cell_type": "code",
   "execution_count": 26,
   "metadata": {},
   "outputs": [
    {
     "data": {
      "text/html": [
       "<div>\n",
       "<style scoped>\n",
       "    .dataframe tbody tr th:only-of-type {\n",
       "        vertical-align: middle;\n",
       "    }\n",
       "\n",
       "    .dataframe tbody tr th {\n",
       "        vertical-align: top;\n",
       "    }\n",
       "\n",
       "    .dataframe thead th {\n",
       "        text-align: right;\n",
       "    }\n",
       "</style>\n",
       "<table border=\"1\" class=\"dataframe\">\n",
       "  <thead>\n",
       "    <tr style=\"text-align: right;\">\n",
       "      <th></th>\n",
       "      <th>InvoiceNo</th>\n",
       "    </tr>\n",
       "    <tr>\n",
       "      <th>CustomerID</th>\n",
       "      <th></th>\n",
       "    </tr>\n",
       "  </thead>\n",
       "  <tbody>\n",
       "    <tr>\n",
       "      <th>12352.0</th>\n",
       "      <td>2</td>\n",
       "    </tr>\n",
       "    <tr>\n",
       "      <th>12371.0</th>\n",
       "      <td>1</td>\n",
       "    </tr>\n",
       "    <tr>\n",
       "      <th>12373.0</th>\n",
       "      <td>1</td>\n",
       "    </tr>\n",
       "  </tbody>\n",
       "</table>\n",
       "</div>"
      ],
      "text/plain": [
       "            InvoiceNo\n",
       "CustomerID           \n",
       "12352.0             2\n",
       "12371.0             1\n",
       "12373.0             1"
      ]
     },
     "execution_count": 26,
     "metadata": {},
     "output_type": "execute_result"
    }
   ],
   "source": [
    "# Adding the Frequency per customer column to a new dataframe called 'RFM_customers' .groupby(by= ['CustomerID']).count()\n",
    "\n",
    "RFM_customers = data_sample[['CustomerID','InvoiceNo']].groupby(by= ['CustomerID']).count()\n",
    "\n",
    "RFM_customers.head(3)"
   ]
  },
  {
   "cell_type": "code",
   "execution_count": 27,
   "metadata": {},
   "outputs": [
    {
     "data": {
      "text/html": [
       "<div>\n",
       "<style scoped>\n",
       "    .dataframe tbody tr th:only-of-type {\n",
       "        vertical-align: middle;\n",
       "    }\n",
       "\n",
       "    .dataframe tbody tr th {\n",
       "        vertical-align: top;\n",
       "    }\n",
       "\n",
       "    .dataframe thead th {\n",
       "        text-align: right;\n",
       "    }\n",
       "</style>\n",
       "<table border=\"1\" class=\"dataframe\">\n",
       "  <thead>\n",
       "    <tr style=\"text-align: right;\">\n",
       "      <th></th>\n",
       "      <th>InvoiceNo</th>\n",
       "      <th>TotalSum</th>\n",
       "    </tr>\n",
       "    <tr>\n",
       "      <th>CustomerID</th>\n",
       "      <th></th>\n",
       "      <th></th>\n",
       "    </tr>\n",
       "  </thead>\n",
       "  <tbody>\n",
       "    <tr>\n",
       "      <th>12352.0</th>\n",
       "      <td>2</td>\n",
       "      <td>29.85</td>\n",
       "    </tr>\n",
       "    <tr>\n",
       "      <th>12371.0</th>\n",
       "      <td>1</td>\n",
       "      <td>17.00</td>\n",
       "    </tr>\n",
       "    <tr>\n",
       "      <th>12373.0</th>\n",
       "      <td>1</td>\n",
       "      <td>39.00</td>\n",
       "    </tr>\n",
       "  </tbody>\n",
       "</table>\n",
       "</div>"
      ],
      "text/plain": [
       "            InvoiceNo  TotalSum\n",
       "CustomerID                     \n",
       "12352.0             2     29.85\n",
       "12371.0             1     17.00\n",
       "12373.0             1     39.00"
      ]
     },
     "execution_count": 27,
     "metadata": {},
     "output_type": "execute_result"
    }
   ],
   "source": [
    "# Adding the Total Spend per customer to our new table using the .groupby(by= ['CustomerID']).sum() function\n",
    "\n",
    "RFM_customers['TotalSum'] = data_sample[['CustomerID','TotalSum']].groupby(by= ['CustomerID']).sum()\n",
    "RFM_customers.head(3)"
   ]
  },
  {
   "cell_type": "markdown",
   "metadata": {},
   "source": [
    "Adding the Recency by customer to our new table using the ```.groupby(by= ['CustomerID']).agg()``` function.\n",
    "\n",
    "Within the ```.agg()``` function we have passed the ```{'New_Invoice_Date': lambda x: (snapshot_date - x.max()).days}``` instruction which uses a lambda function. If you want to learn more about lambda functions you can visit https://www.w3schools.com/python/python_lambda.asp.\n",
    "\n",
    "The function uses the set variable **snapshot_date**.\n",
    "\n",
    "**It takes each value per customer from the series 'New_Invoice_Date' and finds the max/latest invoice date per customer.**\n",
    "\n",
    "Note that the lastest invoice date per customer is less than the snapshot_date.\n",
    "\n",
    "**We take the snapshot_date - the max (latest) invoice date per customer to find when the most recent transaction per customer was made relative to the snapshot_date.**\n",
    "\n",
    "**The data is then aggregated as the most recent transation day per customer given the snapshot_date.**\n",
    "\n",
    "Using ```.days``` will give us the total number of days instead of the full datetime."
   ]
  },
  {
   "cell_type": "code",
   "execution_count": 28,
   "metadata": {},
   "outputs": [
    {
     "data": {
      "text/html": [
       "<div>\n",
       "<style scoped>\n",
       "    .dataframe tbody tr th:only-of-type {\n",
       "        vertical-align: middle;\n",
       "    }\n",
       "\n",
       "    .dataframe tbody tr th {\n",
       "        vertical-align: top;\n",
       "    }\n",
       "\n",
       "    .dataframe thead th {\n",
       "        text-align: right;\n",
       "    }\n",
       "</style>\n",
       "<table border=\"1\" class=\"dataframe\">\n",
       "  <thead>\n",
       "    <tr style=\"text-align: right;\">\n",
       "      <th></th>\n",
       "      <th>InvoiceNo</th>\n",
       "      <th>TotalSum</th>\n",
       "      <th>New_Invoice_Date</th>\n",
       "    </tr>\n",
       "    <tr>\n",
       "      <th>CustomerID</th>\n",
       "      <th></th>\n",
       "      <th></th>\n",
       "      <th></th>\n",
       "    </tr>\n",
       "  </thead>\n",
       "  <tbody>\n",
       "    <tr>\n",
       "      <th>12352.0</th>\n",
       "      <td>2</td>\n",
       "      <td>29.85</td>\n",
       "      <td>82</td>\n",
       "    </tr>\n",
       "    <tr>\n",
       "      <th>12371.0</th>\n",
       "      <td>1</td>\n",
       "      <td>17.00</td>\n",
       "      <td>31</td>\n",
       "    </tr>\n",
       "    <tr>\n",
       "      <th>12373.0</th>\n",
       "      <td>1</td>\n",
       "      <td>39.00</td>\n",
       "      <td>343</td>\n",
       "    </tr>\n",
       "  </tbody>\n",
       "</table>\n",
       "</div>"
      ],
      "text/plain": [
       "            InvoiceNo  TotalSum  New_Invoice_Date\n",
       "CustomerID                                       \n",
       "12352.0             2     29.85                82\n",
       "12371.0             1     17.00                31\n",
       "12373.0             1     39.00               343"
      ]
     },
     "execution_count": 28,
     "metadata": {},
     "output_type": "execute_result"
    }
   ],
   "source": [
    "# Aggregate data by each customer\n",
    "RFM_customers['New_Invoice_Date'] = data_sample[['CustomerID','New_Invoice_Date']].groupby(['CustomerID']).agg({'New_Invoice_Date': lambda x: (snapshot_date - x.max()).days})\n",
    "\n",
    "\n",
    "# The new table then becomes\n",
    "RFM_customers.head(3)"
   ]
  },
  {
   "cell_type": "markdown",
   "metadata": {},
   "source": [
    "Here we are using ```.rename()``` to rename out columns to the relevant metric names."
   ]
  },
  {
   "cell_type": "code",
   "execution_count": 30,
   "metadata": {},
   "outputs": [],
   "source": [
    "RFM_customers.rename(columns = {'New_Invoice_Date': 'Recency',\n",
    "                            'InvoiceNo': 'Frequency',\n",
    "                            'TotalSum': 'MonetaryValue'}, inplace=True)"
   ]
  },
  {
   "cell_type": "code",
   "execution_count": 31,
   "metadata": {},
   "outputs": [
    {
     "data": {
      "text/html": [
       "<div>\n",
       "<style scoped>\n",
       "    .dataframe tbody tr th:only-of-type {\n",
       "        vertical-align: middle;\n",
       "    }\n",
       "\n",
       "    .dataframe tbody tr th {\n",
       "        vertical-align: top;\n",
       "    }\n",
       "\n",
       "    .dataframe thead th {\n",
       "        text-align: right;\n",
       "    }\n",
       "</style>\n",
       "<table border=\"1\" class=\"dataframe\">\n",
       "  <thead>\n",
       "    <tr style=\"text-align: right;\">\n",
       "      <th></th>\n",
       "      <th>Frequency</th>\n",
       "      <th>MonetaryValue</th>\n",
       "      <th>Recency</th>\n",
       "    </tr>\n",
       "    <tr>\n",
       "      <th>CustomerID</th>\n",
       "      <th></th>\n",
       "      <th></th>\n",
       "      <th></th>\n",
       "    </tr>\n",
       "  </thead>\n",
       "  <tbody>\n",
       "    <tr>\n",
       "      <th>12352.0</th>\n",
       "      <td>2</td>\n",
       "      <td>29.85</td>\n",
       "      <td>82</td>\n",
       "    </tr>\n",
       "    <tr>\n",
       "      <th>12371.0</th>\n",
       "      <td>1</td>\n",
       "      <td>17.00</td>\n",
       "      <td>31</td>\n",
       "    </tr>\n",
       "    <tr>\n",
       "      <th>12373.0</th>\n",
       "      <td>1</td>\n",
       "      <td>39.00</td>\n",
       "      <td>343</td>\n",
       "    </tr>\n",
       "  </tbody>\n",
       "</table>\n",
       "</div>"
      ],
      "text/plain": [
       "            Frequency  MonetaryValue  Recency\n",
       "CustomerID                                   \n",
       "12352.0             2          29.85       82\n",
       "12371.0             1          17.00       31\n",
       "12373.0             1          39.00      343"
      ]
     },
     "execution_count": 31,
     "metadata": {},
     "output_type": "execute_result"
    }
   ],
   "source": [
    "# Final table\n",
    "\n",
    "RFM_customers.head(3)"
   ]
  },
  {
   "cell_type": "code",
   "execution_count": 43,
   "metadata": {},
   "outputs": [
    {
     "data": {
      "text/plain": [
       "Index(['Frequency', 'MonetaryValue', 'Recency'], dtype='object')"
      ]
     },
     "execution_count": 43,
     "metadata": {},
     "output_type": "execute_result"
    }
   ],
   "source": [
    "RFM_customers.columns"
   ]
  },
  {
   "cell_type": "markdown",
   "metadata": {},
   "source": [
    "### Some more data processing \n",
    "\n",
    "Using the ```seaborn as sns``` library to plot each column on a different canvas.\n",
    "\n",
    "See documentation of function here https://seaborn.pydata.org/generated/seaborn.distplot.html ."
   ]
  },
  {
   "cell_type": "code",
   "execution_count": 36,
   "metadata": {},
   "outputs": [
    {
     "data": {
      "image/png": "[encoded data removed]",
      "text/plain": [
       "<Figure size 1080x216 with 3 Axes>"
      ]
     },
     "metadata": {
      "needs_background": "light"
     },
     "output_type": "display_data"
    }
   ],
   "source": [
    "fig, ax = plt.subplots(1, 3, figsize=(15,3))\n",
    "\n",
    "sns.distplot(RFM_customers['Recency'], ax=ax[0], color='red',kde=False)\n",
    "sns.distplot(RFM_customers['Frequency'], ax=ax[1], color='darkblue', kde=False)\n",
    "sns.distplot(RFM_customers['MonetaryValue'], ax=ax[2], color='green', kde=False)\n",
    "\n",
    "plt.tight_layout()"
   ]
  },
  {
   "cell_type": "markdown",
   "metadata": {},
   "source": [
    "Dealing with the skewness of our data.\n",
    "\n",
    "Here are two good articles that provide some suggestions on how to deal with skewness of data.\n",
    "\n",
    "https://towardsdatascience.com/transforming-skewed-data-73da4c2d0d16\n",
    "\n",
    "https://towardsdatascience.com/top-3-methods-for-handling-skewed-data-1334e0debf45"
   ]
  },
  {
   "cell_type": "code",
   "execution_count": 85,
   "metadata": {},
   "outputs": [],
   "source": [
    "from scipy import stats\n",
    "\n",
    "#create a function that plots distributions skewness\n",
    "\n",
    "def analyze_skewness(x):\n",
    "    \n",
    "    fig, ax = plt.subplots(2, 2, figsize=(5,5))\n",
    "    \n",
    "    sns.distplot(RFM_customers[x], ax=ax[0,0])\n",
    "    sns.distplot(np.log(RFM_customers[x]), ax=ax[0,1])\n",
    "    sns.distplot(np.sqrt(RFM_customers[x]), ax=ax[1,0])\n",
    "    sns.distplot(stats.boxcox(RFM_customers[x])[0], ax=ax[1,1])\n",
    "    \n",
    "    plt.tight_layout()\n",
    "    \n",
    "    print( 'Original data skewness is {}'.format( RFM_customers[x].skew().round(2)))\n",
    "    print( 'Log of the data has skewness {}'.format( np.log(RFM_customers[x]).skew().round(2)))\n",
    "    print( 'Square-root of the data has skewness {}'.format( np.sqrt(RFM_customers[x]).skew().round(2)) )\n",
    "    print( 'Using the boxcox method on the data give us skewness {}'.format( pd.Series(stats.boxcox(RFM_customers[x])[0]).skew().round(2)))"
   ]
  },
  {
   "cell_type": "markdown",
   "metadata": {},
   "source": [
    "Implementing the function we defined above to our data"
   ]
  },
  {
   "cell_type": "code",
   "execution_count": 86,
   "metadata": {},
   "outputs": [
    {
     "name": "stdout",
     "output_type": "stream",
     "text": [
      "Original data skewness is 1.15\n",
      "Log of the data has skewness -0.86\n",
      "Square-root of the data has skewness 0.21\n",
      "Using the boxcox method on the data give us skewness -0.11\n"
     ]
    },
    {
     "data": {
      "image/png": "[encoded data removed]",
      "text/plain": [
       "<Figure size 360x360 with 4 Axes>"
      ]
     },
     "metadata": {
      "needs_background": "light"
     },
     "output_type": "display_data"
    }
   ],
   "source": [
    "# Analysing which type of data transformation will give us the best from for the Recency column.\n",
    "\n",
    "analyze_skewness('Recency')"
   ]
  },
  {
   "cell_type": "code",
   "execution_count": 87,
   "metadata": {},
   "outputs": [
    {
     "name": "stdout",
     "output_type": "stream",
     "text": [
      "Original data skewness is 6.78\n",
      "Log of the data has skewness 2.17\n",
      "Square-root of the data has skewness 3.85\n",
      "Using the boxcox method on the data give us skewness 1.09\n"
     ]
    },
    {
     "data": {
      "image/png": "[encoded data removed]",
      "text/plain": [
       "<Figure size 360x360 with 4 Axes>"
      ]
     },
     "metadata": {
      "needs_background": "light"
     },
     "output_type": "display_data"
    }
   ],
   "source": [
    "# Analysing which type of data transformation will give us the best from for the Frequency column.\n",
    "\n",
    "analyze_skewness('Frequency')"
   ]
  },
  {
   "cell_type": "code",
   "execution_count": 89,
   "metadata": {},
   "outputs": [
    {
     "name": "stdout",
     "output_type": "stream",
     "text": [
      "5.43\n",
      "-0.02\n"
     ]
    },
    {
     "data": {
      "image/png": "[encoded data removed]",
      "text/plain": [
       "<Figure size 720x216 with 2 Axes>"
      ]
     },
     "metadata": {
      "needs_background": "light"
     },
     "output_type": "display_data"
    }
   ],
   "source": [
    "fig, ax = plt.subplots(1, 2, figsize=(10,3)) # create empty figures\n",
    "\n",
    "sns.distplot(RFM_customers['MonetaryValue'], ax=ax[0]) # distribution plot 1\n",
    "sns.distplot(np.cbrt(RFM_customers['MonetaryValue']), ax=ax[1])  # distribution plot 2\n",
    "\n",
    "print(RFM_customers['MonetaryValue'].skew().round(2)) # Fisher-Pearson coefficient of skewnes \n",
    "print(np.cbrt(RFM_customers['MonetaryValue']).skew().round(2)) # Return the cube-root of an array, element-wise find it's skew, round number to 2"
   ]
  },
  {
   "cell_type": "code",
   "execution_count": 91,
   "metadata": {},
   "outputs": [
    {
     "data": {
      "text/html": [
       "<div>\n",
       "<style scoped>\n",
       "    .dataframe tbody tr th:only-of-type {\n",
       "        vertical-align: middle;\n",
       "    }\n",
       "\n",
       "    .dataframe tbody tr th {\n",
       "        vertical-align: top;\n",
       "    }\n",
       "\n",
       "    .dataframe thead th {\n",
       "        text-align: right;\n",
       "    }\n",
       "</style>\n",
       "<table border=\"1\" class=\"dataframe\">\n",
       "  <thead>\n",
       "    <tr style=\"text-align: right;\">\n",
       "      <th></th>\n",
       "      <th>Recency</th>\n",
       "      <th>Frequency</th>\n",
       "      <th>MonetaryValue</th>\n",
       "    </tr>\n",
       "  </thead>\n",
       "  <tbody>\n",
       "    <tr>\n",
       "      <th>675</th>\n",
       "      <td>16.797711</td>\n",
       "      <td>0.000000</td>\n",
       "      <td>2.336164</td>\n",
       "    </tr>\n",
       "    <tr>\n",
       "      <th>676</th>\n",
       "      <td>14.512442</td>\n",
       "      <td>0.000000</td>\n",
       "      <td>2.466212</td>\n",
       "    </tr>\n",
       "    <tr>\n",
       "      <th>677</th>\n",
       "      <td>12.964363</td>\n",
       "      <td>0.262119</td>\n",
       "      <td>2.207687</td>\n",
       "    </tr>\n",
       "    <tr>\n",
       "      <th>678</th>\n",
       "      <td>9.462673</td>\n",
       "      <td>0.000000</td>\n",
       "      <td>2.705339</td>\n",
       "    </tr>\n",
       "    <tr>\n",
       "      <th>679</th>\n",
       "      <td>7.500873</td>\n",
       "      <td>0.000000</td>\n",
       "      <td>2.655229</td>\n",
       "    </tr>\n",
       "  </tbody>\n",
       "</table>\n",
       "</div>"
      ],
      "text/plain": [
       "       Recency  Frequency  MonetaryValue\n",
       "675  16.797711   0.000000       2.336164\n",
       "676  14.512442   0.000000       2.466212\n",
       "677  12.964363   0.262119       2.207687\n",
       "678   9.462673   0.000000       2.705339\n",
       "679   7.500873   0.000000       2.655229"
      ]
     },
     "execution_count": 91,
     "metadata": {},
     "output_type": "execute_result"
    }
   ],
   "source": [
    "# Set the Numbers\n",
    "RFM_customers_new = pd.DataFrame()  # create a new empty dataframe\n",
    "\n",
    "# assing the series into the dataframe\n",
    "\n",
    "RFM_customers_new[\"Recency\"] = stats.boxcox(RFM_customers['Recency'])[0] \n",
    "RFM_customers_new[\"Frequency\"] = stats.boxcox(RFM_customers['Frequency'])[0]\n",
    "RFM_customers_new[\"MonetaryValue\"] = pd.Series(np.cbrt(RFM_customers['MonetaryValue'])).values\n",
    "\n",
    "RFM_customers_new.tail()"
   ]
  },
  {
   "cell_type": "markdown",
   "metadata": {},
   "source": [
    "Centering and Scaling Variables using the ```sklearn.preprocessing``` function ```StandardScaler()```.\n",
    "\n",
    "Documentation on the function can be found here: https://scikit-learn.org/stable/modules/generated/sklearn.preprocessing.StandardScaler.html\n",
    "\n",
    "Standardization scales each input variable separately by subtracting the mean (called centering) and dividing by the standard deviation to shift the distribution to have a mean of zero and a standard deviation of one."
   ]
  },
  {
   "cell_type": "code",
   "execution_count": 92,
   "metadata": {},
   "outputs": [
    {
     "name": "stdout",
     "output_type": "stream",
     "text": [
      "[0. 0. 0.]\n",
      "[1. 1. 1.]\n"
     ]
    }
   ],
   "source": [
    "from sklearn.preprocessing import StandardScaler\n",
    "\n",
    "#  StandardScaler()\n",
    "\n",
    "scaler = StandardScaler()\n",
    "scaler.fit(RFM_customers_new)\n",
    "\n",
    "RFM_customers_standardized = scaler.transform(RFM_customers_new)\n",
    "\n",
    "print(RFM_customers_standardized.mean(axis = 0).round(2))\n",
    "print(RFM_customers_standardized.std(axis = 0).round(2))"
   ]
  },
  {
   "cell_type": "code",
   "execution_count": 93,
   "metadata": {},
   "outputs": [
    {
     "data": {
      "text/plain": [
       "array([[-0.30968943,  1.614652  ,  0.4536097 ],\n",
       "       [-1.07681652, -0.5948903 ,  0.0629917 ],\n",
       "       [ 1.37262148, -0.5948903 ,  0.66642305],\n",
       "       ...,\n",
       "       [ 0.35715587,  1.614652  , -0.20459779],\n",
       "       [-0.40267518, -0.5948903 ,  0.16165207],\n",
       "       [-0.82836598, -0.5948903 ,  0.12477304]])"
      ]
     },
     "execution_count": 93,
     "metadata": {},
     "output_type": "execute_result"
    }
   ],
   "source": [
    "RFM_customers_standardized # this is now an array of the "
   ]
  },
  {
   "cell_type": "code",
   "execution_count": 94,
   "metadata": {},
   "outputs": [
    {
     "data": {
      "text/html": [
       "<div>\n",
       "<style scoped>\n",
       "    .dataframe tbody tr th:only-of-type {\n",
       "        vertical-align: middle;\n",
       "    }\n",
       "\n",
       "    .dataframe tbody tr th {\n",
       "        vertical-align: top;\n",
       "    }\n",
       "\n",
       "    .dataframe thead th {\n",
       "        text-align: right;\n",
       "    }\n",
       "</style>\n",
       "<table border=\"1\" class=\"dataframe\">\n",
       "  <thead>\n",
       "    <tr style=\"text-align: right;\">\n",
       "      <th></th>\n",
       "      <th>Recency</th>\n",
       "      <th>MonetaryValue</th>\n",
       "      <th>Frequency</th>\n",
       "    </tr>\n",
       "  </thead>\n",
       "  <tbody>\n",
       "    <tr>\n",
       "      <th>0</th>\n",
       "      <td>-0.309689</td>\n",
       "      <td>1.614652</td>\n",
       "      <td>0.453610</td>\n",
       "    </tr>\n",
       "    <tr>\n",
       "      <th>1</th>\n",
       "      <td>-1.076817</td>\n",
       "      <td>-0.594890</td>\n",
       "      <td>0.062992</td>\n",
       "    </tr>\n",
       "    <tr>\n",
       "      <th>2</th>\n",
       "      <td>1.372621</td>\n",
       "      <td>-0.594890</td>\n",
       "      <td>0.666423</td>\n",
       "    </tr>\n",
       "  </tbody>\n",
       "</table>\n",
       "</div>"
      ],
      "text/plain": [
       "    Recency  MonetaryValue  Frequency\n",
       "0 -0.309689       1.614652   0.453610\n",
       "1 -1.076817      -0.594890   0.062992\n",
       "2  1.372621      -0.594890   0.666423"
      ]
     },
     "execution_count": 94,
     "metadata": {},
     "output_type": "execute_result"
    }
   ],
   "source": [
    "RFM_standardized_df = pd.DataFrame(RFM_customers_standardized, columns={'Frequency', 'MonetaryValue', 'Recency' })\n",
    "\n",
    "RFM_standardized_df.head(3)"
   ]
  },
  {
   "cell_type": "code",
   "execution_count": 95,
   "metadata": {},
   "outputs": [
    {
     "data": {
      "image/png": "[encoded data removed]",
      "text/plain": [
       "<Figure size 1080x216 with 3 Axes>"
      ]
     },
     "metadata": {
      "needs_background": "light"
     },
     "output_type": "display_data"
    }
   ],
   "source": [
    "fig, ax = plt.subplots(1, 3, figsize=(15,3))\n",
    "\n",
    "sns.distplot(RFM_standardized_df['Recency'], ax=ax[0], color='red')\n",
    "sns.distplot(RFM_standardized_df['Frequency'], ax=ax[1], color='darkblue')\n",
    "sns.distplot(RFM_standardized_df['MonetaryValue'], ax=ax[2], color='green')\n",
    "\n",
    "plt.tight_layout()"
   ]
  },
  {
   "cell_type": "markdown",
   "metadata": {},
   "source": [
    "Data is less skewed and is normalised hence we can now use it to fit our model. \n",
    "\n",
    "## Modelling\n",
    "\n",
    "Choosing the number of clusters: k, using the Elbow method."
   ]
  },
  {
   "cell_type": "code",
   "execution_count": 104,
   "metadata": {
    "scrolled": true
   },
   "outputs": [],
   "source": [
    "from sklearn.cluster import KMeans\n",
    "\n",
    "\n",
    "# Create an empty list where we will store the Sum of Squared Errors (SEE)\n",
    "sse = []\n",
    "\n",
    "\n",
    "# Use a for-loop to calculate the SSE for a range of k-values from 2 clusters to 10 cluster.\n",
    "for k in range(2, 11):\n",
    "    \n",
    "    # # initialize K-means Class \n",
    "    kmeans = KMeans(n_clusters=k, random_state=42)\n",
    "    \n",
    "    # fit the K-means algorithm - perform 10 runs with max 300 iterations\n",
    "    kmeans.fit(RFM_customers_standardized)\n",
    "    \n",
    "    # append the inertia_ metric which is the SSE for each loop to the empty list \n",
    "    sse.append(kmeans.inertia_) \n"
   ]
  },
  {
   "cell_type": "code",
   "execution_count": 101,
   "metadata": {},
   "outputs": [
    {
     "data": {
      "image/png": "[encoded data removed]",
      "text/plain": [
       "<Figure size 432x288 with 1 Axes>"
      ]
     },
     "metadata": {
      "needs_background": "light"
     },
     "output_type": "display_data"
    }
   ],
   "source": [
    "# We can use the list we created to plot the SSE data\n",
    "\n",
    "x = list(range(2,11))\n",
    "y = sse\n",
    "\n",
    "sns.pointplot(x, y)\n",
    "\n",
    "# Adding Chart name and x and y labels\n",
    "plt.title('The Elbow Method')\n",
    "plt.xlabel('k')\n",
    "plt.ylabel('SSE');"
   ]
  },
  {
   "cell_type": "markdown",
   "metadata": {},
   "source": [
    "Determining the elbow point in the SSE curve isn’t always straightforward. If you’re having trouble choosing the elbow point of the curve, then you could use a Python package, ```kneed```, to identify the elbow point programmatically:"
   ]
  },
  {
   "cell_type": "code",
   "execution_count": 103,
   "metadata": {},
   "outputs": [
    {
     "data": {
      "text/plain": [
       "5"
      ]
     },
     "execution_count": 103,
     "metadata": {},
     "output_type": "execute_result"
    }
   ],
   "source": [
    "from kneed import KneeLocator\n",
    "\n",
    "kl = KneeLocator( range(2, 11), sse, curve=\"convex\", direction=\"decreasing\")\n",
    "\n",
    "kl.elbow # find best number of clusters"
   ]
  },
  {
   "cell_type": "markdown",
   "metadata": {},
   "source": [
    "Choosing the k-values using the silhouette method.\n",
    "\n",
    "Note we can ignore clusters of 1 and 2 since their SSE scores are quite high."
   ]
  },
  {
   "cell_type": "code",
   "execution_count": 114,
   "metadata": {},
   "outputs": [],
   "source": [
    "from sklearn.metrics import silhouette_score\n",
    "\n",
    "# Create an empty list that will hold the silhouette coefficients for each k\n",
    "silhouette_coefficients = []\n",
    "\n",
    "# Create a loop through the number of clusters again\n",
    "for k in range(3, 11):\n",
    "    \n",
    "    \n",
    "    # # initialize K-means Class \n",
    "    kmeans = KMeans(n_clusters=k, random_state=42)\n",
    "    \n",
    "    # fit the K-means algorithm - perform 10 runs with max 300 iterations\n",
    "    kmeans.fit(RFM_customers_standardized)\n",
    "    \n",
    "    \n",
    "    # append the silhouette_score metric and let it be called score\n",
    "    score = silhouette_score(RFM_customers_standardized, kmeans.labels_)\n",
    "    \n",
    "    # append the metric to the empty list \n",
    "    silhouette_coefficients.append(score)"
   ]
  },
  {
   "cell_type": "code",
   "execution_count": 115,
   "metadata": {},
   "outputs": [
    {
     "name": "stdout",
     "output_type": "stream",
     "text": [
      "The max coef is 0.44795278783542236\n"
     ]
    },
    {
     "data": {
      "image/png": "[encoded data removed]",
      "text/plain": [
       "<Figure size 576x324 with 1 Axes>"
      ]
     },
     "metadata": {
      "needs_background": "light"
     },
     "output_type": "display_data"
    }
   ],
   "source": [
    "# Plot our figure to visualise the max silhouette coefficient \n",
    "\n",
    "plt.figure(figsize=(8, 4.5))\n",
    "\n",
    "plt.plot(range(3, 11), silhouette_coefficients)\n",
    "\n",
    "plt.xticks(range(3, 11))\n",
    "plt.xlabel(\"Number of Clusters\")\n",
    "plt.ylabel(\"Silhouette Coefficient\");\n",
    "\n",
    "# save your image with this function\n",
    "#plt.savefig('K-Means_silhouette_Method.png', dpi=None, transparent=True,pad_inches=0.1,);\n",
    "\n",
    "print('The max coef is {}'.format(max(silhouette_coefficients)))"
   ]
  },
  {
   "cell_type": "markdown",
   "metadata": {},
   "source": [
    "Using both methods, the Elbow method and the silhouette one, we find that 5 clusters is the ideal number of clusters for this  **sample of data**.\n",
    "\n",
    "Note this works for this sample of data but might not fit the whole data.\n",
    "\n",
    "## Fitting our model"
   ]
  },
  {
   "cell_type": "code",
   "execution_count": 116,
   "metadata": {},
   "outputs": [
    {
     "data": {
      "text/plain": [
       "(680,)"
      ]
     },
     "execution_count": 116,
     "metadata": {},
     "output_type": "execute_result"
    }
   ],
   "source": [
    "model = KMeans(n_clusters=5, random_state=42)\n",
    "\n",
    "model.fit(RFM_customers_standardized)\n",
    "\n",
    "model.labels_.shape"
   ]
  },
  {
   "cell_type": "markdown",
   "metadata": {},
   "source": [
    "### Cluster Analysis\n",
    "\n",
    "Using the ```model.labels_``` to extact the cluster labels for each customer.\n",
    "\n",
    "We create a new column, called **Cluster** that hosts the cluster numbers for each customer.\n",
    "\n",
    "Note we add the cluster numbers to the table ***RFM_customers*** where the values of each column are the original values."
   ]
  },
  {
   "cell_type": "code",
   "execution_count": 120,
   "metadata": {
    "scrolled": true
   },
   "outputs": [
    {
     "data": {
      "text/html": [
       "<div>\n",
       "<style scoped>\n",
       "    .dataframe tbody tr th:only-of-type {\n",
       "        vertical-align: middle;\n",
       "    }\n",
       "\n",
       "    .dataframe tbody tr th {\n",
       "        vertical-align: top;\n",
       "    }\n",
       "\n",
       "    .dataframe thead th {\n",
       "        text-align: right;\n",
       "    }\n",
       "</style>\n",
       "<table border=\"1\" class=\"dataframe\">\n",
       "  <thead>\n",
       "    <tr style=\"text-align: right;\">\n",
       "      <th></th>\n",
       "      <th>Frequency</th>\n",
       "      <th>MonetaryValue</th>\n",
       "      <th>Recency</th>\n",
       "      <th>Cluster</th>\n",
       "    </tr>\n",
       "    <tr>\n",
       "      <th>CustomerID</th>\n",
       "      <th></th>\n",
       "      <th></th>\n",
       "      <th></th>\n",
       "      <th></th>\n",
       "    </tr>\n",
       "  </thead>\n",
       "  <tbody>\n",
       "    <tr>\n",
       "      <th>12352.0</th>\n",
       "      <td>2</td>\n",
       "      <td>29.85</td>\n",
       "      <td>82</td>\n",
       "      <td>1</td>\n",
       "    </tr>\n",
       "    <tr>\n",
       "      <th>12371.0</th>\n",
       "      <td>1</td>\n",
       "      <td>17.00</td>\n",
       "      <td>31</td>\n",
       "      <td>2</td>\n",
       "    </tr>\n",
       "    <tr>\n",
       "      <th>12373.0</th>\n",
       "      <td>1</td>\n",
       "      <td>39.00</td>\n",
       "      <td>343</td>\n",
       "      <td>0</td>\n",
       "    </tr>\n",
       "    <tr>\n",
       "      <th>12378.0</th>\n",
       "      <td>1</td>\n",
       "      <td>12.50</td>\n",
       "      <td>306</td>\n",
       "      <td>0</td>\n",
       "    </tr>\n",
       "    <tr>\n",
       "      <th>12395.0</th>\n",
       "      <td>1</td>\n",
       "      <td>5.04</td>\n",
       "      <td>220</td>\n",
       "      <td>0</td>\n",
       "    </tr>\n",
       "  </tbody>\n",
       "</table>\n",
       "</div>"
      ],
      "text/plain": [
       "            Frequency  MonetaryValue  Recency  Cluster\n",
       "CustomerID                                            \n",
       "12352.0             2          29.85       82        1\n",
       "12371.0             1          17.00       31        2\n",
       "12373.0             1          39.00      343        0\n",
       "12378.0             1          12.50      306        0\n",
       "12395.0             1           5.04      220        0"
      ]
     },
     "execution_count": 120,
     "metadata": {},
     "output_type": "execute_result"
    }
   ],
   "source": [
    "RFM_customers[\"Cluster\"] = model.labels_\n",
    "RFM_customers.head()"
   ]
  },
  {
   "cell_type": "code",
   "execution_count": 121,
   "metadata": {},
   "outputs": [
    {
     "data": {
      "text/html": [
       "<div>\n",
       "<style scoped>\n",
       "    .dataframe tbody tr th:only-of-type {\n",
       "        vertical-align: middle;\n",
       "    }\n",
       "\n",
       "    .dataframe tbody tr th {\n",
       "        vertical-align: top;\n",
       "    }\n",
       "\n",
       "    .dataframe thead th {\n",
       "        text-align: right;\n",
       "    }\n",
       "</style>\n",
       "<table border=\"1\" class=\"dataframe\">\n",
       "  <thead>\n",
       "    <tr style=\"text-align: right;\">\n",
       "      <th></th>\n",
       "      <th>CustomerID</th>\n",
       "      <th>Frequency</th>\n",
       "      <th>MonetaryValue</th>\n",
       "      <th>Recency</th>\n",
       "      <th>Cluster</th>\n",
       "    </tr>\n",
       "  </thead>\n",
       "  <tbody>\n",
       "    <tr>\n",
       "      <th>0</th>\n",
       "      <td>12352.0</td>\n",
       "      <td>2</td>\n",
       "      <td>29.85</td>\n",
       "      <td>82</td>\n",
       "      <td>1</td>\n",
       "    </tr>\n",
       "    <tr>\n",
       "      <th>1</th>\n",
       "      <td>12371.0</td>\n",
       "      <td>1</td>\n",
       "      <td>17.00</td>\n",
       "      <td>31</td>\n",
       "      <td>2</td>\n",
       "    </tr>\n",
       "    <tr>\n",
       "      <th>2</th>\n",
       "      <td>12373.0</td>\n",
       "      <td>1</td>\n",
       "      <td>39.00</td>\n",
       "      <td>343</td>\n",
       "      <td>0</td>\n",
       "    </tr>\n",
       "    <tr>\n",
       "      <th>3</th>\n",
       "      <td>12378.0</td>\n",
       "      <td>1</td>\n",
       "      <td>12.50</td>\n",
       "      <td>306</td>\n",
       "      <td>0</td>\n",
       "    </tr>\n",
       "    <tr>\n",
       "      <th>4</th>\n",
       "      <td>12395.0</td>\n",
       "      <td>1</td>\n",
       "      <td>5.04</td>\n",
       "      <td>220</td>\n",
       "      <td>0</td>\n",
       "    </tr>\n",
       "    <tr>\n",
       "      <th>...</th>\n",
       "      <td>...</td>\n",
       "      <td>...</td>\n",
       "      <td>...</td>\n",
       "      <td>...</td>\n",
       "      <td>...</td>\n",
       "    </tr>\n",
       "    <tr>\n",
       "      <th>675</th>\n",
       "      <td>18245.0</td>\n",
       "      <td>1</td>\n",
       "      <td>12.75</td>\n",
       "      <td>302</td>\n",
       "      <td>0</td>\n",
       "    </tr>\n",
       "    <tr>\n",
       "      <th>676</th>\n",
       "      <td>18257.0</td>\n",
       "      <td>1</td>\n",
       "      <td>15.00</td>\n",
       "      <td>208</td>\n",
       "      <td>0</td>\n",
       "    </tr>\n",
       "    <tr>\n",
       "      <th>677</th>\n",
       "      <td>18263.0</td>\n",
       "      <td>2</td>\n",
       "      <td>10.76</td>\n",
       "      <td>157</td>\n",
       "      <td>1</td>\n",
       "    </tr>\n",
       "    <tr>\n",
       "      <th>678</th>\n",
       "      <td>18265.0</td>\n",
       "      <td>1</td>\n",
       "      <td>19.80</td>\n",
       "      <td>74</td>\n",
       "      <td>2</td>\n",
       "    </tr>\n",
       "    <tr>\n",
       "      <th>679</th>\n",
       "      <td>18287.0</td>\n",
       "      <td>1</td>\n",
       "      <td>18.72</td>\n",
       "      <td>44</td>\n",
       "      <td>2</td>\n",
       "    </tr>\n",
       "  </tbody>\n",
       "</table>\n",
       "<p>680 rows × 5 columns</p>\n",
       "</div>"
      ],
      "text/plain": [
       "     CustomerID  Frequency  MonetaryValue  Recency  Cluster\n",
       "0       12352.0          2          29.85       82        1\n",
       "1       12371.0          1          17.00       31        2\n",
       "2       12373.0          1          39.00      343        0\n",
       "3       12378.0          1          12.50      306        0\n",
       "4       12395.0          1           5.04      220        0\n",
       "..          ...        ...            ...      ...      ...\n",
       "675     18245.0          1          12.75      302        0\n",
       "676     18257.0          1          15.00      208        0\n",
       "677     18263.0          2          10.76      157        1\n",
       "678     18265.0          1          19.80       74        2\n",
       "679     18287.0          1          18.72       44        2\n",
       "\n",
       "[680 rows x 5 columns]"
      ]
     },
     "execution_count": 121,
     "metadata": {},
     "output_type": "execute_result"
    }
   ],
   "source": [
    "RFM_customers.reset_index()"
   ]
  },
  {
   "cell_type": "markdown",
   "metadata": {},
   "source": [
    "**We can aggregate the table to extract the answers to the following questions.**\n",
    "\n",
    "- How many customers per cluster?\n",
    "\n",
    "- What is the average monetary value spent per cluster?\n",
    "\n",
    "- What is the average frequency per cluster?\n",
    "\n",
    "- What is the average Recency per cluster? \n"
   ]
  },
  {
   "cell_type": "code",
   "execution_count": null,
   "metadata": {},
   "outputs": [],
   "source": [
    "# Resetting the index of our dataframe so that we can group by the CustomerID too. \n",
    "\n",
    "RFM_customers = RFM_customers.reset_index()"
   ]
  },
  {
   "cell_type": "code",
   "execution_count": 138,
   "metadata": {
    "scrolled": true
   },
   "outputs": [
    {
     "data": {
      "text/html": [
       "<div>\n",
       "<style scoped>\n",
       "    .dataframe tbody tr th:only-of-type {\n",
       "        vertical-align: middle;\n",
       "    }\n",
       "\n",
       "    .dataframe tbody tr th {\n",
       "        vertical-align: top;\n",
       "    }\n",
       "\n",
       "    .dataframe thead tr th {\n",
       "        text-align: left;\n",
       "    }\n",
       "\n",
       "    .dataframe thead tr:last-of-type th {\n",
       "        text-align: right;\n",
       "    }\n",
       "</style>\n",
       "<table border=\"1\" class=\"dataframe\">\n",
       "  <thead>\n",
       "    <tr>\n",
       "      <th></th>\n",
       "      <th>CustomerID</th>\n",
       "      <th>Recency</th>\n",
       "      <th>Frequency</th>\n",
       "      <th colspan=\"2\" halign=\"left\">MonetaryValue</th>\n",
       "    </tr>\n",
       "    <tr>\n",
       "      <th></th>\n",
       "      <th>count</th>\n",
       "      <th>mean</th>\n",
       "      <th>mean</th>\n",
       "      <th>mean</th>\n",
       "      <th>sum</th>\n",
       "    </tr>\n",
       "    <tr>\n",
       "      <th>Cluster</th>\n",
       "      <th></th>\n",
       "      <th></th>\n",
       "      <th></th>\n",
       "      <th></th>\n",
       "      <th></th>\n",
       "    </tr>\n",
       "  </thead>\n",
       "  <tbody>\n",
       "    <tr>\n",
       "      <th>0</th>\n",
       "      <td>279</td>\n",
       "      <td>254.6</td>\n",
       "      <td>1.0</td>\n",
       "      <td>18.9</td>\n",
       "      <td>5267.6</td>\n",
       "    </tr>\n",
       "    <tr>\n",
       "      <th>1</th>\n",
       "      <td>147</td>\n",
       "      <td>89.1</td>\n",
       "      <td>2.5</td>\n",
       "      <td>23.3</td>\n",
       "      <td>3418.6</td>\n",
       "    </tr>\n",
       "    <tr>\n",
       "      <th>2</th>\n",
       "      <td>196</td>\n",
       "      <td>51.2</td>\n",
       "      <td>1.0</td>\n",
       "      <td>17.3</td>\n",
       "      <td>3396.3</td>\n",
       "    </tr>\n",
       "    <tr>\n",
       "      <th>3</th>\n",
       "      <td>19</td>\n",
       "      <td>164.5</td>\n",
       "      <td>1.1</td>\n",
       "      <td>-10.6</td>\n",
       "      <td>-201.2</td>\n",
       "    </tr>\n",
       "    <tr>\n",
       "      <th>4</th>\n",
       "      <td>39</td>\n",
       "      <td>97.3</td>\n",
       "      <td>3.4</td>\n",
       "      <td>202.2</td>\n",
       "      <td>7885.4</td>\n",
       "    </tr>\n",
       "  </tbody>\n",
       "</table>\n",
       "</div>"
      ],
      "text/plain": [
       "        CustomerID Recency Frequency MonetaryValue        \n",
       "             count    mean      mean          mean     sum\n",
       "Cluster                                                   \n",
       "0              279   254.6       1.0          18.9  5267.6\n",
       "1              147    89.1       2.5          23.3  3418.6\n",
       "2              196    51.2       1.0          17.3  3396.3\n",
       "3               19   164.5       1.1         -10.6  -201.2\n",
       "4               39    97.3       3.4         202.2  7885.4"
      ]
     },
     "execution_count": 138,
     "metadata": {},
     "output_type": "execute_result"
    }
   ],
   "source": [
    "RFM_customers.groupby('Cluster').agg({'CustomerID':'count' ,'Recency':'mean', 'Frequency':'mean','MonetaryValue':['mean','sum']}).round(1)"
   ]
  },
  {
   "cell_type": "markdown",
   "metadata": {},
   "source": [
    "We can see that:\n",
    "\n",
    "- **Group 0** consists of the most number of customers, that are have not shopped recently and they are not frequent shoppers. They have the on average a high spend per customer of £18.90. SInce they haven't shopped in 254 days (on avr), we can say thet the cluster consists of **churned customers**. \n",
    "\n",
    "- **Group 1** has a lot of customers too, which are more frequent but haven't shopped recently. They tend to spend more per visit and visit more frequently. We can say they might be more loyal than Group 0. We can say they are **new or existant customers** but not loyal. \n",
    "\n",
    "- **Group 2** has similar metrics to group 0 but they have shopped recently. We can say they are **new customers**.\n",
    "\n",
    "- **Group 3** seems to be the group which consists of customers who have returned items recently.\n",
    "\n",
    "- **Group 4** is the group with most **loyal shoppers** who tend to be frequent, spend a lot per shop (avr £202.20) and have recently bought something.\n",
    "\n",
    "We can assign customers to different clusters and identify their shopping habits in order to target them "
   ]
  },
  {
   "cell_type": "markdown",
   "metadata": {},
   "source": [
    "### References\n",
    "Daqing C., Sai L.S, and Kun G., Data mining for the online retail industry: A case study of RFM model-based customer segmentation using data mining (2012), Journal of Database Marketing and Customer Strategy Management.<br>\n",
    "K. Jarrod Millman and Michael Aivazis. Python for Scientists and Engineers(2011). Computing in Science & Engineering.<br>\n",
    "With help from \n",
    "https://towardsdatascience.com/customer-segmentation-in-python-9c15acf6f945 "
   ]
  }
 ],
 "metadata": {
  "kernelspec": {
   "display_name": "Python 3",
   "language": "python",
   "name": "python3"
  },
  "language_info": {
   "codemirror_mode": {
    "name": "ipython",
    "version": 3
   },
   "file_extension": ".py",
   "mimetype": "text/x-python",
   "name": "python",
   "nbconvert_exporter": "python",
   "pygments_lexer": "ipython3",
   "version": "3.8.3"
  },
  "latex_envs": {
   "LaTeX_envs_menu_present": true,
   "autoclose": false,
   "autocomplete": true,
   "bibliofile": "biblio.bib",
   "cite_by": "apalike",
   "current_citInitial": 1,
   "eqLabelWithNumbers": true,
   "eqNumInitial": 1,
   "hotkeys": {
    "equation": "Ctrl-E",
    "itemize": "Ctrl-I"
   },
   "labels_anchors": false,
   "latex_user_defs": false,
   "report_style_numbering": false,
   "user_envs_cfg": false
  },
  "toc": {
   "base_numbering": 1,
   "nav_menu": {},
   "number_sections": true,
   "sideBar": true,
   "skip_h1_title": false,
   "title_cell": "Table of Contents",
   "title_sidebar": "Contents",
   "toc_cell": false,
   "toc_position": {},
   "toc_section_display": true,
   "toc_window_display": true
  }
 },
 "nbformat": 4,
 "nbformat_minor": 2
}
