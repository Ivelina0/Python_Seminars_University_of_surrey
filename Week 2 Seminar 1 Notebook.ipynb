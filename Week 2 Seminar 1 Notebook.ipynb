{
 "cells": [
  {
   "cell_type": "markdown",
   "metadata": {},
   "source": [
    "# Welcome to week 1 of the Python Seminars!\n",
    "---------------------------------------------------------------------------\n"
   ]
  },
  {
   "cell_type": "markdown",
   "metadata": {},
   "source": [
    "In sem 1, we will go through:\n",
    "\n",
    "* Data types\n",
    "    * Numbers, Floats, Fractions, Complex numbers\n",
    "    * Strings\n",
    "    * Printing\n",
    "    * Lists\n",
    "    * Dictionaries\n",
    "    * Booleans\n",
    "    * Tuples \n",
    "    * Sets\n",
    "* Comparison Operators\n",
    "* if, elif, else Statements\n",
    "* for Loops\n",
    "* while Loops\n",
    "* range()\n",
    "* list comprehension\n",
    "* functions\n",
    "* lambda expressions\n",
    "* map and filter\n",
    "* methods\n",
    "____\n",
    "\n",
    "Jupyter Notebook extensions: https://towardsdatascience.com/jupyter-notebook-extensions-517fa69d2231"
   ]
  },
  {
   "cell_type": "markdown",
   "metadata": {},
   "source": [
    "## Quick Introduction to some simple Maths Functions in Python"
   ]
  },
  {
   "cell_type": "code",
   "execution_count": 7,
   "metadata": {},
   "outputs": [
    {
     "data": {
      "text/plain": [
       "8"
      ]
     },
     "execution_count": 7,
     "metadata": {},
     "output_type": "execute_result"
    }
   ],
   "source": [
    "3\n",
    "\n",
    "3 + 3\n",
    "\n",
    "3*3\n",
    "\n",
    "# divide\n",
    "3/2\n",
    "\n",
    "# if you want the result to return only an integer\n",
    "3//2\n",
    "\n",
    "# it takes the floor divison\n",
    "\n",
    "-3//2\n",
    "\n",
    "# if you want just the remainder\n",
    "3%2\n",
    "\n",
    "# the power of numbers \n",
    "2**3"
   ]
  },
  {
   "cell_type": "code",
   "execution_count": 14,
   "metadata": {},
   "outputs": [
    {
     "data": {
      "text/plain": [
       "float"
      ]
     },
     "execution_count": 14,
     "metadata": {},
     "output_type": "execute_result"
    }
   ],
   "source": [
    "# the function type()\n",
    "\n",
    "# an integer\n",
    "type(3)\n",
    "\n",
    "# a float\n",
    "type(4.5)\n",
    "\n",
    "# is still a float\n",
    "type(3.0)"
   ]
  },
  {
   "cell_type": "code",
   "execution_count": 22,
   "metadata": {},
   "outputs": [
    {
     "name": "stdout",
     "output_type": "stream",
     "text": [
      "Requirement already satisfied: Fraction in c:\\users\\iveli\\anaconda3\\lib\\site-packages (1.4.1)\n"
     ]
    }
   ],
   "source": [
    "# Installing a module in Jupyter can be done by typying '!pip install ...module...'\n",
    "\n",
    "!pip install Fraction"
   ]
  },
  {
   "cell_type": "code",
   "execution_count": 40,
   "metadata": {},
   "outputs": [
    {
     "data": {
      "text/plain": [
       "1.0"
      ]
     },
     "execution_count": 40,
     "metadata": {},
     "output_type": "execute_result"
    }
   ],
   "source": [
    "# a float \n",
    "3.5 \n",
    "\n",
    "# a fraction - what are packages\n",
    "import fraction\n",
    "\n",
    "Fraction(3,4)\n",
    "\n",
    "# checking it is a fraction \n",
    "type(Fraction(3,4))\n",
    "\n",
    "# adding fractions\n",
    "Fraction(3,4) + 3 \n",
    "\n",
    "Fraction(3,4) + Fraction(1,4)\n",
    "\n",
    "# it is still a fraction\n",
    "type(Fraction(3,4) + Fraction(1,4))\n",
    "\n",
    "# But if you want to change it you can use the int() to change it to an integer\n",
    "int(Fraction(3,4) + Fraction(1,4))\n",
    "\n",
    "# or using the float() function to change it to a flaot or decimal \n",
    "float( Fraction(3,4) + Fraction(1,4) )"
   ]
  },
  {
   "cell_type": "code",
   "execution_count": 55,
   "metadata": {},
   "outputs": [
    {
     "data": {
      "text/plain": [
       "3.605551275463989"
      ]
     },
     "execution_count": 55,
     "metadata": {},
     "output_type": "execute_result"
    }
   ],
   "source": [
    "# Complex numbers\n",
    "2+3j\n",
    "\n",
    "type(2+3j)\n",
    "\n",
    "# assigning variables to save time\n",
    "\n",
    "a = 2+3j\n",
    "b = 5+5j\n",
    "\n",
    "# Adding complex numbers\n",
    "a+b\n",
    "\n",
    "# multiplying complex numbers\n",
    "a*b\n",
    "\n",
    "#Dividing complex numbers\n",
    "a/b\n",
    "\n",
    "# find tbe real value of the compex numeber\n",
    "a.real\n",
    "\n",
    "type(a.real)\n",
    "\n",
    "a.imag\n",
    "\n",
    "# the conjugate - equal magnitute but opposite sign\n",
    "a.conjugate()\n",
    "\n",
    "# the absolute value\n",
    "abs(a)\n",
    "\n",
    "abs(a.conjugate())"
   ]
  },
  {
   "cell_type": "code",
   "execution_count": 58,
   "metadata": {},
   "outputs": [
    {
     "name": "stdout",
     "output_type": "stream",
     "text": [
      "9\n"
     ]
    }
   ],
   "source": [
    "# Some other functions\n",
    "\n",
    "a = input()"
   ]
  },
  {
   "cell_type": "code",
   "execution_count": 59,
   "metadata": {},
   "outputs": [
    {
     "data": {
      "text/plain": [
       "'9'"
      ]
     },
     "execution_count": 59,
     "metadata": {},
     "output_type": "execute_result"
    }
   ],
   "source": [
    "# Checking our input using the print() function\n",
    "print(a)"
   ]
  },
  {
   "cell_type": "code",
   "execution_count": 124,
   "metadata": {},
   "outputs": [
    {
     "name": "stdout",
     "output_type": "stream",
     "text": [
      "7\n",
      "Hello World\n",
      "Hello World\n",
      "My name is: Ivelina, and my age is: 22\n",
      "My name is: Ivelina, and my age is: 22\n"
     ]
    }
   ],
   "source": [
    "# Printing function - everyone starts with print('Hello world')\n",
    "print(a)\n",
    "\n",
    "# Strings\n",
    "\n",
    "word = 'Hello World'\n",
    "\n",
    "print(word)\n",
    "\n",
    "# the same as\n",
    "print('Hello World')\n",
    "\n",
    "# Using the {} and .format() function when printing \n",
    "name = 'Ivelina'\n",
    "age = 22\n",
    "\n",
    "print('My name is: {one}, and my age is: {two}'.format(one=name,two=age))#\n",
    "\n",
    "# or simply writing this also works\n",
    "print('My name is: {}, and my age is: {}'.format(name,age))"
   ]
  },
  {
   "cell_type": "markdown",
   "metadata": {},
   "source": [
    "## Data types"
   ]
  },
  {
   "cell_type": "markdown",
   "metadata": {},
   "source": [
    "### Sets, lists, tuples and Dictionaries"
   ]
  },
  {
   "cell_type": "code",
   "execution_count": 72,
   "metadata": {},
   "outputs": [
    {
     "data": {
      "text/plain": [
       "[4, 5]"
      ]
     },
     "execution_count": 72,
     "metadata": {},
     "output_type": "execute_result"
    }
   ],
   "source": [
    "# If we go on the W3 Schools website, there are many Python exercises you can do there that can solidify \n",
    "# the basic functions used\n",
    "\n",
    "# lists - is a collection which is ordered and changeable. Allows duplicate members\n",
    "\n",
    "a_list = [1, 4, 5]\n",
    "\n",
    "# or\n",
    "another_list = ['Python', 'MATLAB', 'R']\n"
   ]
  },
  {
   "cell_type": "code",
   "execution_count": 109,
   "metadata": {},
   "outputs": [
    {
     "data": {
      "text/plain": [
       "[4, 5]"
      ]
     },
     "execution_count": 109,
     "metadata": {},
     "output_type": "execute_result"
    }
   ],
   "source": [
    "# Slicing lists - to access the list's items, we use a consept calles slicing\n",
    "\n",
    "a_list[1]\n",
    "\n",
    "# Note that Python starts indexing items from 0 not from 1\n",
    "\n",
    "a_list[0]\n",
    "\n",
    "# Negative indexing means beginning from the end, -1 refers to the last item\n",
    "a_list[-1]\n",
    "\n",
    "# or we can take a specific range of values\n",
    "a_list[1:2] # only takes the 1st item\n",
    "\n",
    "a_list[1:] # takes the first until the last item\n",
    "\n",
    "a_list[1:3] # takes the first and second item"
   ]
  },
  {
   "cell_type": "code",
   "execution_count": 175,
   "metadata": {},
   "outputs": [
    {
     "name": "stdout",
     "output_type": "stream",
     "text": [
      "[3, 4, 5]\n"
     ]
    }
   ],
   "source": [
    "# Tuples - is a collection which is ordered and unchangeable items.\n",
    "\n",
    "my_tuple = (4,5,7,2)\n",
    "\n",
    "# slicing tuples also works\n",
    "my_tuple[0]\n",
    "\n",
    "# the main difference with lists is that tuples are unchangable\n",
    "\n",
    "a_list[0] = 3 # assign a difference value to the 1st item in a list\n",
    "print(a_list) # 1 changes to 3\n",
    "\n",
    "# although with tuple\n",
    "my_tuple[0] = 3 # gives you an error - cannot change the values"
   ]
  },
  {
   "cell_type": "code",
   "execution_count": 92,
   "metadata": {},
   "outputs": [
    {
     "name": "stdout",
     "output_type": "stream",
     "text": [
      "{1, 4, 6, 'milk'}\n",
      "{1, 4, 7, 6, 23, 10, 'milk'}\n",
      "7\n",
      "{1, 7, 6, 23, 10, 'milk'}\n",
      "{1, 6, 23, 10, 'milk'}\n"
     ]
    }
   ],
   "source": [
    "# Sets - is a collection which is unordered and unindexed.\n",
    "\n",
    "a_set = {1,4,6}\n",
    "\n",
    "# You cannot access items in a set by referring to an index or a key.\n",
    "\n",
    "# you can add new items to the set using add()\n",
    "a_set.add('milk')\n",
    "\n",
    "print(a_set)\n",
    "\n",
    "# To add more than one item to a set use the update() method.\n",
    "\n",
    "new_set = {7,10,23}\n",
    "\n",
    "a_set.update(new_set)\n",
    "\n",
    "print(a_set)\n",
    "\n",
    "# To determine how many items a set has, use the len() method.\n",
    "print(len(a_set))\n",
    "\n",
    "# To remove an item in a set, use the remove(), or the discard() method.\n",
    "# Note: If the item to remove does not exist, remove() will raise an error.\n",
    "\n",
    "a_set.remove(4)\n",
    "print(a_set)\n",
    "\n",
    "# -------------------\n",
    "a_set.remove(2)\n",
    "print(a_set)\n",
    "# ------------------- Comment out before running the below code\n",
    "\n",
    "# Note: If the item to remove does not exist, discard() will NOT raise an error.\n",
    "a_set.discard(7)\n",
    "print(a_set)\n"
   ]
  },
  {
   "cell_type": "code",
   "execution_count": 108,
   "metadata": {},
   "outputs": [
    {
     "name": "stdout",
     "output_type": "stream",
     "text": [
      "{1, 2, 3, 'c', 'b', 'a'}\n",
      "{1, 2, 3, 5, 9}\n",
      "{0, 1, 2, 3, 5, 9}\n",
      "{1}\n"
     ]
    }
   ],
   "source": [
    "# Sets - Joins: Unions and Intersections\n",
    "\n",
    "# The union() method returns a new set with all items from both sets\n",
    "# Example 1\n",
    "set1 = {\"a\", \"b\" , \"c\"}\n",
    "set2 = {1, 2, 3}\n",
    "\n",
    "set3 = set1.union(set2)\n",
    "print(set3)\n",
    "\n",
    "# Example 2\n",
    "set4 = {1, 5, 9}\n",
    "set5 = {1, 2, 3}\n",
    "\n",
    "set6 = set4.union(set5)\n",
    "print(set6)\n",
    "\n",
    "# The update() method inserts the items in set2 into set1:\n",
    "\n",
    "# Example 3 \n",
    "set7 = {1, 5, 9}\n",
    "set8 = {0, 2, 3}\n",
    "\n",
    "set7.update(set8)\n",
    "print(set7)\n",
    "\n",
    "# Note: Both union() and update() will exclude any duplicate items.\n",
    "\n",
    "# Interesction\n",
    "set9 = {1, 5, 9}\n",
    "set10 = {1, 2, 3}\n",
    "set11 = {1, 6, 3}\n",
    "\n",
    "set12 = set9.intersection(set10, set11)\n",
    "print(set12)"
   ]
  },
  {
   "cell_type": "code",
   "execution_count": 139,
   "metadata": {},
   "outputs": [
    {
     "name": "stdout",
     "output_type": "stream",
     "text": [
      "item1\n",
      "{'key1': 'item1', 'key2': 'noitem'}\n",
      "dict_values(['item1', 'noitem'])\n",
      "dict_items([('key1', 'item1'), ('key2', 'noitem')])\n",
      "item1\n",
      "noitem\n",
      "item1\n",
      "noitem\n"
     ]
    }
   ],
   "source": [
    "# Dictionaries\n",
    "d = {'key1':'item1','key2':'item2'}\n",
    "d\n",
    "\n",
    "# You can access the items of a dictionary by referring to its key name, inside square brackets:\n",
    "d['key1']\n",
    "\n",
    "# There is also a method called get() that will give you the same result:\n",
    "i = d.get('key1')\n",
    "print(i)\n",
    "\n",
    "# You can change the value of a specific item by referring to its key name:\n",
    "d['key2'] = 'noitem'\n",
    "print(d)\n",
    "\n",
    "# Getting only the dictionaries values\n",
    "print(d.values())\n",
    "\n",
    "# Getting the dictionary items and their corresponding keys\n",
    "print(d.items())\n",
    "\n",
    "# printing only the values of the dictionary using a simple for-loop\n",
    "for x,y in d.items():\n",
    "    print(y)\n",
    "\n",
    "# or simply using this method\n",
    "for x in d:\n",
    "    print(d[x])"
   ]
  },
  {
   "cell_type": "code",
   "execution_count": 142,
   "metadata": {},
   "outputs": [
    {
     "data": {
      "text/plain": [
       "False"
      ]
     },
     "execution_count": 142,
     "metadata": {},
     "output_type": "execute_result"
    }
   ],
   "source": [
    "# Booleans\n",
    "\n",
    "True and False"
   ]
  },
  {
   "cell_type": "code",
   "execution_count": 143,
   "metadata": {},
   "outputs": [
    {
     "data": {
      "text/plain": [
       "True"
      ]
     },
     "execution_count": 143,
     "metadata": {},
     "output_type": "execute_result"
    }
   ],
   "source": [
    "True or False"
   ]
  },
  {
   "cell_type": "code",
   "execution_count": 146,
   "metadata": {},
   "outputs": [
    {
     "data": {
      "text/plain": [
       "True"
      ]
     },
     "execution_count": 146,
     "metadata": {},
     "output_type": "execute_result"
    }
   ],
   "source": [
    "22 == 22"
   ]
  },
  {
   "cell_type": "code",
   "execution_count": 147,
   "metadata": {},
   "outputs": [
    {
     "data": {
      "text/plain": [
       "False"
      ]
     },
     "execution_count": 147,
     "metadata": {},
     "output_type": "execute_result"
    }
   ],
   "source": [
    "(22 == 22) and (1 == 2)"
   ]
  },
  {
   "cell_type": "code",
   "execution_count": 148,
   "metadata": {},
   "outputs": [
    {
     "data": {
      "text/plain": [
       "True"
      ]
     },
     "execution_count": 148,
     "metadata": {},
     "output_type": "execute_result"
    }
   ],
   "source": [
    "(22 == 22) or (1 == 2)"
   ]
  },
  {
   "cell_type": "code",
   "execution_count": 149,
   "metadata": {},
   "outputs": [
    {
     "data": {
      "text/plain": [
       "False"
      ]
     },
     "execution_count": 149,
     "metadata": {},
     "output_type": "execute_result"
    }
   ],
   "source": [
    "(1 > 2) and (2 < 3)"
   ]
  },
  {
   "cell_type": "code",
   "execution_count": 150,
   "metadata": {},
   "outputs": [
    {
     "data": {
      "text/plain": [
       "True"
      ]
     },
     "execution_count": 150,
     "metadata": {},
     "output_type": "execute_result"
    }
   ],
   "source": [
    "(1 > 2) or (2 < 3)"
   ]
  },
  {
   "cell_type": "markdown",
   "metadata": {},
   "source": [
    "## IF-Else, While Loops, For Loops"
   ]
  },
  {
   "cell_type": "markdown",
   "metadata": {},
   "source": [
    "### IF-ELSE Functions\n",
    "\n",
    "Python supports the usual logical conditions from mathematics:\n",
    "    \n",
    "Equals: **a == b**\n",
    "\n",
    "Not Equals: **a != b**\n",
    "\n",
    "Less than: **a < b**\n",
    "\n",
    "Less than or equal to: **a <= b**\n",
    "\n",
    "Greater than: **a > b**\n",
    "\n",
    "Greater than or equal to: **a >= b**"
   ]
  },
  {
   "cell_type": "code",
   "execution_count": 1,
   "metadata": {},
   "outputs": [
    {
     "name": "stdout",
     "output_type": "stream",
     "text": [
      "False\n"
     ]
    }
   ],
   "source": [
    "a = 7\n",
    "b = 3\n",
    "\n",
    "if a%b == 0:\n",
    "    print('True')\n",
    "else: \n",
    "    print('False')"
   ]
  },
  {
   "cell_type": "code",
   "execution_count": 120,
   "metadata": {},
   "outputs": [
    {
     "name": "stdout",
     "output_type": "stream",
     "text": [
      "False\n",
      "No the remainder is 1\n"
     ]
    }
   ],
   "source": [
    "## If-else Example 1 - is a divisible by b without a remainder?\n",
    "\n",
    "a = 7\n",
    "b = 3\n",
    "\n",
    "if a%b == 0:\n",
    "    print('True')\n",
    "else: \n",
    "    print('False')\n",
    "    \n",
    "# If-else Example 1 - is a divisible by b without a remainder?\n",
    "if a%b == 0:\n",
    "    print('Yes')\n",
    "else: \n",
    "    print('No the remainder is ' + str(a%b))\n",
    "    "
   ]
  },
  {
   "cell_type": "code",
   "execution_count": 151,
   "metadata": {},
   "outputs": [
    {
     "name": "stdout",
     "output_type": "stream",
     "text": [
      "Upper second\n"
     ]
    }
   ],
   "source": [
    "# IF-ELIF-ELSE Example - categorise the exam results of a signle person\n",
    "score = 60\n",
    "\n",
    "if score < 40:\n",
    "    print('Fail')\n",
    "elif score < 60:\n",
    "    print('Lower second')\n",
    "elif score < 70:\n",
    "    print('Upper second')\n",
    "else:\n",
    "    print('First')\n",
    "    \n",
    "# The elif keyword is pythons way of saying \"if the previous conditions were not true, then try this condition\".\n",
    "# The else keyword catches anything which isn't caught by the preceding conditions."
   ]
  },
  {
   "cell_type": "code",
   "execution_count": 4,
   "metadata": {},
   "outputs": [
    {
     "name": "stdout",
     "output_type": "stream",
     "text": [
      "^C\n"
     ]
    }
   ],
   "source": [
    "!conda install mkl_random"
   ]
  },
  {
   "cell_type": "code",
   "execution_count": 6,
   "metadata": {},
   "outputs": [
    {
     "data": {
      "text/plain": [
       "range(0, 10)"
      ]
     },
     "execution_count": 6,
     "metadata": {},
     "output_type": "execute_result"
    }
   ],
   "source": [
    "range(0,10)"
   ]
  },
  {
   "cell_type": "code",
   "execution_count": 7,
   "metadata": {},
   "outputs": [
    {
     "name": "stdout",
     "output_type": "stream",
     "text": [
      "[95, 4, 12, 72, 67, 59, 11, 73, 36, 41]\n"
     ]
    }
   ],
   "source": [
    "# FOR- LOOPS\n",
    "# A for loop is used for iterating over a sequence (that is either a list, a tuple, a dictionary, a set, or a string).\n",
    "\n",
    "# if we have a list of grades e.g.\n",
    "\n",
    "import random\n",
    "\n",
    "grades = []\n",
    "\n",
    "# for a range of 10 values we do the following:\n",
    "\n",
    "for i in range(0,10):\n",
    "        \n",
    "    # generate some random integer n as grades from 0 - 100 with the random.randint() function \n",
    "    n = random.randint(1,100)\n",
    "    \n",
    "    # we append the integer n to an empty list with each iteration to create a list of grades \n",
    "    grades.append(n)\n",
    "    \n",
    "print(grades)"
   ]
  },
  {
   "cell_type": "code",
   "execution_count": 8,
   "metadata": {},
   "outputs": [
    {
     "data": {
      "text/plain": [
       "[95, 4, 12, 72, 67, 59, 11, 73, 36, 41]"
      ]
     },
     "execution_count": 8,
     "metadata": {},
     "output_type": "execute_result"
    }
   ],
   "source": [
    "grades"
   ]
  },
  {
   "cell_type": "code",
   "execution_count": 205,
   "metadata": {},
   "outputs": [
    {
     "name": "stdout",
     "output_type": "stream",
     "text": [
      "Lower second\n",
      "Upper second\n",
      "First\n",
      "Upper second\n",
      "Upper second\n",
      "First\n",
      "Fail\n",
      "First\n",
      "Fail\n"
     ]
    }
   ],
   "source": [
    "# for a grade i in the list of grades:\n",
    "\n",
    "for i in grades:\n",
    "    \n",
    "    # We classify them using the if function\n",
    "    \n",
    "    if i < 40:\n",
    "        print('Fail')\n",
    "    elif i < 60:\n",
    "        print('Lower second')\n",
    "    elif i < 70:\n",
    "        print('Upper second')\n",
    "    else:\n",
    "        print('First')"
   ]
  },
  {
   "cell_type": "code",
   "execution_count": 157,
   "metadata": {},
   "outputs": [
    {
     "name": "stdout",
     "output_type": "stream",
     "text": [
      "0\n",
      "1\n",
      "2\n",
      "3\n",
      "4\n",
      "5\n"
     ]
    }
   ],
   "source": [
    "# Introducing range() - The range() function returns a sequence of numbers, starting from 0 by default, \n",
    "# and increments by 1 (by default), and stops before a specified number.\n",
    "\n",
    "for n in range(6):\n",
    "    print(n)"
   ]
  },
  {
   "cell_type": "code",
   "execution_count": 156,
   "metadata": {},
   "outputs": [
    {
     "name": "stdout",
     "output_type": "stream",
     "text": [
      "3\n",
      "5\n",
      "7\n",
      "9\n",
      "11\n",
      "13\n",
      "15\n",
      "17\n",
      "19\n"
     ]
    }
   ],
   "source": [
    "# range(start, stop, step)\n",
    "\n",
    "for n in range(3, 20, 2):\n",
    "    print(n)"
   ]
  },
  {
   "cell_type": "code",
   "execution_count": 177,
   "metadata": {},
   "outputs": [
    {
     "name": "stdout",
     "output_type": "stream",
     "text": [
      "apple\n",
      "banana\n"
     ]
    }
   ],
   "source": [
    "# Exit the loop when x is \"banana\":\n",
    "\n",
    "fruits = [\"apple\", \"banana\", \"cherry\"]\n",
    "\n",
    "for x in fruits:\n",
    "    print(x)\n",
    "    if x == \"banana\":\n",
    "        break"
   ]
  },
  {
   "cell_type": "code",
   "execution_count": 160,
   "metadata": {},
   "outputs": [
    {
     "name": "stdout",
     "output_type": "stream",
     "text": [
      "apple\n",
      "cherry\n"
     ]
    }
   ],
   "source": [
    "# Do not print banana:\n",
    "fruits = [\"apple\", \"banana\", \"cherry\"]\n",
    "for x in fruits:\n",
    "    if x == \"banana\":\n",
    "        continue\n",
    "    print(x)"
   ]
  },
  {
   "cell_type": "code",
   "execution_count": 163,
   "metadata": {},
   "outputs": [
    {
     "name": "stdout",
     "output_type": "stream",
     "text": [
      "1\n",
      "2\n",
      "3\n",
      "4\n",
      "5\n"
     ]
    }
   ],
   "source": [
    "# While loops - With the while loop we can execute a set of statements as long as a condition is true.\n",
    "\n",
    "i = 1\n",
    "while i < 6:\n",
    "    print(i)\n",
    "    i += 1"
   ]
  },
  {
   "cell_type": "code",
   "execution_count": 164,
   "metadata": {},
   "outputs": [
    {
     "name": "stdout",
     "output_type": "stream",
     "text": [
      "1\n",
      "2\n",
      "3\n",
      "4\n",
      "5\n",
      "i is no longer less than 6\n"
     ]
    }
   ],
   "source": [
    "i = 1\n",
    "while i < 6:\n",
    "    print(i)\n",
    "    i += 1\n",
    "else:\n",
    "    print(\"i is no longer less than 6\")"
   ]
  },
  {
   "cell_type": "markdown",
   "metadata": {},
   "source": [
    "## Functions"
   ]
  },
  {
   "cell_type": "code",
   "execution_count": 9,
   "metadata": {},
   "outputs": [],
   "source": [
    "def square(x):\n",
    "    return x**2"
   ]
  },
  {
   "cell_type": "code",
   "execution_count": 10,
   "metadata": {},
   "outputs": [
    {
     "data": {
      "text/plain": [
       "36"
      ]
     },
     "execution_count": 10,
     "metadata": {},
     "output_type": "execute_result"
    }
   ],
   "source": [
    "square(6)"
   ]
  },
  {
   "cell_type": "code",
   "execution_count": 11,
   "metadata": {},
   "outputs": [],
   "source": [
    "# Define a function which calculates the C given the F degrees - https://www.mathsisfun.com/temperature-conversion.html\n",
    "\n",
    "def convert_to_fahrenheit(x):\n",
    "    \n",
    "    F = (x/5)*9 + 32\n",
    "    \n",
    "    print('{} Celsius is {} Fahrenheit'.format(x,F))"
   ]
  },
  {
   "cell_type": "code",
   "execution_count": 13,
   "metadata": {},
   "outputs": [
    {
     "name": "stdout",
     "output_type": "stream",
     "text": [
      "5 Celsius is 41.0 Fahrenheit\n"
     ]
    }
   ],
   "source": [
    "convert_to_fahrenheit(5)"
   ]
  },
  {
   "cell_type": "markdown",
   "metadata": {},
   "source": [
    "## Plotting graphs\n",
    "\n",
    "Normally we use the Matplotlib and Seaborn packages to create good visualisations of our functions.\n",
    "\n",
    "You can read through their documentation in detail on the website below:\n",
    "\n",
    "* https://matplotlib.org/\n",
    "* https://seaborn.pydata.org/"
   ]
  },
  {
   "cell_type": "code",
   "execution_count": 206,
   "metadata": {},
   "outputs": [],
   "source": [
    "import matplotlib.pyplot as ive\n",
    "\n",
    "# You'll also need to use this line to see plots in the notebook:\n",
    "\n",
    "%matplotlib inline"
   ]
  },
  {
   "cell_type": "code",
   "execution_count": 210,
   "metadata": {},
   "outputs": [],
   "source": [
    "x = list(range(0,21))\n",
    "y = []\n",
    "\n",
    "for i in x:\n",
    "    \n",
    "    yi = i ** 2\n",
    "    \n",
    "    y.append(yi)    "
   ]
  },
  {
   "cell_type": "code",
   "execution_count": 214,
   "metadata": {},
   "outputs": [
    {
     "name": "stdout",
     "output_type": "stream",
     "text": [
      "21\n",
      "21\n"
     ]
    }
   ],
   "source": [
    "print(len(y))\n",
    "print(len(x))"
   ]
  },
  {
   "cell_type": "code",
   "execution_count": 215,
   "metadata": {},
   "outputs": [
    {
     "data": {
      "image/png": "[encoded data removed]",
      "text/plain": [
       "<Figure size 432x288 with 1 Axes>"
      ]
     },
     "metadata": {
      "needs_background": "light"
     },
     "output_type": "display_data"
    }
   ],
   "source": [
    "ive.plot(x, y, 'r') # 'r' is the color red\n",
    "\n",
    "ive.xlabel('X Axis Title Here')\n",
    "ive.ylabel('Y Axis Title Here')\n",
    "ive.title('String Title Here')\n",
    "ive.show()"
   ]
  },
  {
   "cell_type": "code",
   "execution_count": 216,
   "metadata": {},
   "outputs": [
    {
     "data": {
      "image/png": "[encoded data removed]",
      "text/plain": [
       "<Figure size 432x288 with 2 Axes>"
      ]
     },
     "metadata": {
      "needs_background": "light"
     },
     "output_type": "display_data"
    }
   ],
   "source": [
    "# Creating multi-plots on the same canvas\n",
    "\n",
    "# plt.subplot(nrows, ncols, plot_number)\n",
    "plt.subplot(1,2,1)\n",
    "plt.plot(x, y, 'r--') # More on color options later\n",
    "\n",
    "plt.subplot(1,2,2)\n",
    "plt.plot(y, x, 'g*-');"
   ]
  },
  {
   "cell_type": "markdown",
   "metadata": {},
   "source": [
    "## Your turn\n",
    "\n",
    "Ex 1: Define a function which calculates the x roots given the *quadratic formula* and then calculate the roots of \n",
    "            \n",
    "                2*x^2-12*x+10 = 0\n",
    "\n",
    "Ex 2: Plot the function y = exp(x) for x in [0,10].\n",
    "\n",
    "*Note: You may need to import the module called **math** or **cmath**.*\n",
    "\n",
    "* **cmath** provides access to mathematical functions for complex numbers.\n",
    "* **math** functions cannot be used with complex numbers; use the functions of the same name from the cmath module if you require support for complex numbers."
   ]
  },
  {
   "cell_type": "markdown",
   "metadata": {},
   "source": [
    "Ex 1 Solutions"
   ]
  },
  {
   "cell_type": "code",
   "execution_count": 201,
   "metadata": {},
   "outputs": [],
   "source": [
    "# write def of the function\n",
    "\n"
   ]
  },
  {
   "cell_type": "code",
   "execution_count": 199,
   "metadata": {},
   "outputs": [
    {
     "name": "stdout",
     "output_type": "stream",
     "text": [
      "Enter the coefficients of a: 2\n",
      "Enter the coefficients of b: -14\n",
      "Enter the coefficients of c: 13\n",
      "This equation has two solutions:  (5.89791576165636+0j)  and (1.1020842383436404+0j)\n"
     ]
    }
   ],
   "source": [
    "# Here we can use the int() and input() functions to be prompted to enter the coef and store them as integers\n",
    "# then use the function you defined above to calculate the roots\n",
    "\n"
   ]
  },
  {
   "cell_type": "markdown",
   "metadata": {},
   "source": [
    "Ex 2 "
   ]
  },
  {
   "cell_type": "code",
   "execution_count": 222,
   "metadata": {},
   "outputs": [
    {
     "name": "stdout",
     "output_type": "stream",
     "text": [
      "[0, 1, 2, 3, 4, 5, 6, 7, 8, 9, 10]\n",
      "[1.0, 2.718281828459045, 7.38905609893065, 20.085536923187668, 54.598150033144236, 148.4131591025766, 403.4287934927351, 1096.6331584284585, 2980.9579870417283, 8103.083927575384, 22026.465794806718]\n"
     ]
    }
   ],
   "source": []
  },
  {
   "cell_type": "code",
   "execution_count": 223,
   "metadata": {},
   "outputs": [
    {
     "data": {
      "image/png": "[encoded data removed]",
      "text/plain": [
       "<Figure size 432x288 with 1 Axes>"
      ]
     },
     "metadata": {
      "needs_background": "light"
     },
     "output_type": "display_data"
    }
   ],
   "source": []
  },
  {
   "cell_type": "markdown",
   "metadata": {},
   "source": [
    "## Extra sources:\n",
    "\n",
    "Free resources: \n",
    "- Python website\n",
    "- Medium\n",
    "- Kaggle\n",
    "- W3 Schools\n",
    "- GitHub\n",
    "- Real Python \n",
    "- Analytics Vidhya\n",
    "- O'Reilly books \n",
    "\n",
    "Not so free resources: \n",
    "- Udemy, Coursera, DataCamp"
   ]
  }
 ],
 "metadata": {
  "kernelspec": {
   "display_name": "Python 3",
   "language": "python",
   "name": "python3"
  },
  "language_info": {
   "codemirror_mode": {
    "name": "ipython",
    "version": 3
   },
   "file_extension": ".py",
   "mimetype": "text/x-python",
   "name": "python",
   "nbconvert_exporter": "python",
   "pygments_lexer": "ipython3",
   "version": "3.8.3"
  }
 },
 "nbformat": 4,
 "nbformat_minor": 4
}
